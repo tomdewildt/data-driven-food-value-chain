{
 "cells": [
  {
   "cell_type": "markdown",
   "id": "54600c14",
   "metadata": {},
   "source": [
    "# 3. Sensor Data Interpolation"
   ]
  },
  {
   "cell_type": "code",
   "execution_count": 1,
   "id": "f5f60290",
   "metadata": {},
   "outputs": [],
   "source": [
    "from datetime import datetime\n",
    "import random\n",
    "\n",
    "from sklearn.preprocessing import MinMaxScaler\n",
    "from IPython.display import display\n",
    "\n",
    "import matplotlib.pyplot as plt\n",
    "import seaborn as sns\n",
    "import pandas as pd\n",
    "import numpy as np"
   ]
  },
  {
   "cell_type": "code",
   "execution_count": 2,
   "id": "dff3c6cb",
   "metadata": {},
   "outputs": [],
   "source": [
    "ANON_HIGH_RES_DATASET = \"../data/Anonymized High Resolution Dataset (8 Days).csv\""
   ]
  },
  {
   "cell_type": "markdown",
   "id": "0a04adb5",
   "metadata": {},
   "source": [
    "## 3.1 Import datasets"
   ]
  },
  {
   "cell_type": "code",
   "execution_count": 3,
   "id": "8837f5d2",
   "metadata": {},
   "outputs": [],
   "source": [
    "df_anon_high_res = pd.read_csv(ANON_HIGH_RES_DATASET, sep=';')"
   ]
  },
  {
   "cell_type": "markdown",
   "id": "07d28017-bf33-4a7e-b93e-f97c0cee8a7e",
   "metadata": {},
   "source": [
    "## 3.2 Preprocess data"
   ]
  },
  {
   "cell_type": "markdown",
   "id": "3607d266-2a3c-472f-a722-636d719b47b9",
   "metadata": {},
   "source": [
    "### 3.2.1 Prepare data"
   ]
  },
  {
   "cell_type": "markdown",
   "id": "c3a12056-077a-4576-ac2d-dc89b0ba8c5b",
   "metadata": {},
   "source": [
    "**Rename columns**"
   ]
  },
  {
   "cell_type": "code",
   "execution_count": 4,
   "id": "600b8585-be09-4612-bc83-676824a347b8",
   "metadata": {},
   "outputs": [],
   "source": [
    "df_anon_high_res = df_anon_high_res.rename(columns={\n",
    "    \"TS\": \"timestamp\",\n",
    "    \"Tag\": \"sensor_tag\",\n",
    "    \"Value\": \"value\",\n",
    "    \"Sensor Type\": \"sensor_type\",\n",
    "    \"Equipment Type\": \"equipment_type\",\n",
    "})"
   ]
  },
  {
   "cell_type": "markdown",
   "id": "6aa98a60-869e-4354-921b-44f33a60dfcf",
   "metadata": {},
   "source": [
    "**Set categorical values**"
   ]
  },
  {
   "cell_type": "code",
   "execution_count": 5,
   "id": "f5b9d680-cbc3-4e4a-ae7b-d5957f5c4cfc",
   "metadata": {},
   "outputs": [],
   "source": [
    "df_anon_high_res[\"sensor_tag\"] = df_anon_high_res[\"sensor_tag\"].str.split(\" \").apply(lambda x: f\"{x[0].upper()}_{x[1].zfill(2)}\")\n",
    "df_anon_high_res[\"sensor_type\"] = df_anon_high_res[\"sensor_type\"].str.upper()\n",
    "df_anon_high_res[\"equipment_type\"] = df_anon_high_res[\"equipment_type\"].str.upper()"
   ]
  },
  {
   "cell_type": "code",
   "execution_count": 6,
   "id": "5dd9a8d9-49d7-4cfc-8672-56e97a8d07d1",
   "metadata": {},
   "outputs": [],
   "source": [
    "df_anon_high_res.loc[df_anon_high_res[\"sensor_tag\"] == \"SENSOR_01\", \"sensor_type\"] = \"FLOW\"\n",
    "df_anon_high_res.loc[df_anon_high_res[\"sensor_tag\"] == \"SENSOR_02\", \"sensor_type\"] = \"FLOW\"\n",
    "\n",
    "df_anon_high_res.loc[df_anon_high_res[\"sensor_tag\"] == \"SENSOR_03\", \"sensor_type\"] = \"COUNTER\"\n",
    "df_anon_high_res.loc[df_anon_high_res[\"sensor_tag\"] == \"SENSOR_04\", \"sensor_type\"] = \"UNKNOWN\"\n",
    "\n",
    "df_anon_high_res.loc[df_anon_high_res[\"sensor_tag\"] == \"SENSOR_05\", \"sensor_type\"] = \"MEASUREMENT\"\n",
    "df_anon_high_res.loc[df_anon_high_res[\"sensor_tag\"] == \"SENSOR_06\", \"sensor_type\"] = \"MEASUREMENT\"\n",
    "df_anon_high_res.loc[df_anon_high_res[\"sensor_tag\"] == \"SENSOR_07\", \"sensor_type\"] = \"MEASUREMENT\"\n",
    "df_anon_high_res.loc[df_anon_high_res[\"sensor_tag\"] == \"SENSOR_08\", \"sensor_type\"] = \"MEASUREMENT\"\n",
    "df_anon_high_res.loc[df_anon_high_res[\"sensor_tag\"] == \"SENSOR_09\", \"sensor_type\"] = \"MEASUREMENT\"\n",
    "df_anon_high_res.loc[df_anon_high_res[\"sensor_tag\"] == \"SENSOR_10\", \"sensor_type\"] = \"MEASUREMENT\"\n",
    "df_anon_high_res.loc[df_anon_high_res[\"sensor_tag\"] == \"SENSOR_11\", \"sensor_type\"] = \"MEASUREMENT\"\n",
    "df_anon_high_res.loc[df_anon_high_res[\"sensor_tag\"] == \"SENSOR_12\", \"sensor_type\"] = \"MEASUREMENT\"\n",
    "df_anon_high_res.loc[df_anon_high_res[\"sensor_tag\"] == \"SENSOR_13\", \"sensor_type\"] = \"MEASUREMENT\"\n",
    "\n",
    "df_anon_high_res.loc[df_anon_high_res[\"sensor_tag\"] == \"SENSOR_14\", \"sensor_type\"] = \"SETTING\"\n",
    "\n",
    "df_anon_high_res.loc[df_anon_high_res[\"sensor_tag\"] == \"SENSOR_15\", \"sensor_type\"] = \"TEMPERATURE\"\n",
    "\n",
    "df_anon_high_res.loc[df_anon_high_res[\"sensor_tag\"] == \"SENSOR_16\", \"sensor_type\"] = \"FLOW\"\n",
    "df_anon_high_res.loc[df_anon_high_res[\"sensor_tag\"] == \"SENSOR_17\", \"sensor_type\"] = \"ACTUAL\"\n",
    "df_anon_high_res.loc[df_anon_high_res[\"sensor_tag\"] == \"SENSOR_18\", \"sensor_type\"] = \"SPEED\"\n",
    "df_anon_high_res.loc[df_anon_high_res[\"sensor_tag\"] == \"SENSOR_19\", \"sensor_type\"] = \"ACTUAL\"\n",
    "df_anon_high_res.loc[df_anon_high_res[\"sensor_tag\"] == \"SENSOR_20\", \"sensor_type\"] = \"SPEED\"\n",
    "\n",
    "df_anon_high_res.loc[df_anon_high_res[\"sensor_tag\"] == \"SENSOR_21\", \"sensor_type\"] = \"PERCENTAGE\"\n",
    "\n",
    "df_anon_high_res.loc[df_anon_high_res[\"sensor_tag\"] == \"SENSOR_22\", \"sensor_type\"] = \"CURRENT\"\n",
    "df_anon_high_res.loc[df_anon_high_res[\"sensor_tag\"] == \"SENSOR_23\", \"sensor_type\"] = \"FREQUENCY\"\n",
    "df_anon_high_res.loc[df_anon_high_res[\"sensor_tag\"] == \"SENSOR_24\", \"sensor_type\"] = \"TEMPERATURE\"\n",
    "df_anon_high_res.loc[df_anon_high_res[\"sensor_tag\"] == \"SENSOR_25\", \"sensor_type\"] = \"FLOW\"\n",
    "df_anon_high_res.loc[df_anon_high_res[\"sensor_tag\"] == \"SENSOR_26\", \"sensor_type\"] = \"FLOW\"\n",
    "df_anon_high_res.loc[df_anon_high_res[\"sensor_tag\"] == \"SENSOR_27\", \"sensor_type\"] = \"FLOW\"\n",
    "df_anon_high_res.loc[df_anon_high_res[\"sensor_tag\"] == \"SENSOR_28\", \"sensor_type\"] = \"FLOW\"\n",
    "\n",
    "df_anon_high_res.loc[df_anon_high_res[\"sensor_tag\"] == \"SENSOR_29\", \"sensor_type\"] = \"FLOW\"\n",
    "df_anon_high_res.loc[df_anon_high_res[\"sensor_tag\"] == \"SENSOR_30\", \"sensor_type\"] = \"TEMPERATURE\"\n",
    "\n",
    "df_anon_high_res.loc[df_anon_high_res[\"sensor_tag\"] == \"SENSOR_31\", \"sensor_type\"] = \"SETTING\"\n",
    "df_anon_high_res.loc[df_anon_high_res[\"sensor_tag\"] == \"SENSOR_32\", \"sensor_type\"] = \"SETTING\"\n",
    "df_anon_high_res.loc[df_anon_high_res[\"sensor_tag\"] == \"SENSOR_33\", \"sensor_type\"] = \"SETTING\"\n",
    "df_anon_high_res.loc[df_anon_high_res[\"sensor_tag\"] == \"SENSOR_34\", \"sensor_type\"] = \"SETTING\"\n",
    "df_anon_high_res.loc[df_anon_high_res[\"sensor_tag\"] == \"SENSOR_35\", \"sensor_type\"] = \"SETTING\"\n",
    "df_anon_high_res.loc[df_anon_high_res[\"sensor_tag\"] == \"SENSOR_36\", \"sensor_type\"] = \"SETTING\"\n",
    "df_anon_high_res.loc[df_anon_high_res[\"sensor_tag\"] == \"SENSOR_37\", \"sensor_type\"] = \"SETTING\"\n",
    "df_anon_high_res.loc[df_anon_high_res[\"sensor_tag\"] == \"SENSOR_38\", \"sensor_type\"] = \"SETTING\"\n",
    "\n",
    "df_anon_high_res.loc[df_anon_high_res[\"sensor_tag\"] == \"SENSOR_39\", \"sensor_type\"] = \"PRESSURE\"\n",
    "df_anon_high_res.loc[df_anon_high_res[\"sensor_tag\"] == \"SENSOR_40\", \"sensor_type\"] = \"FLOW\"\n",
    "df_anon_high_res.loc[df_anon_high_res[\"sensor_tag\"] == \"SENSOR_41\", \"sensor_type\"] = \"PRESSURE\"\n",
    "df_anon_high_res.loc[df_anon_high_res[\"sensor_tag\"] == \"SENSOR_42\", \"sensor_type\"] = \"TEMPERATURE\"\n",
    "df_anon_high_res.loc[df_anon_high_res[\"sensor_tag\"] == \"SENSOR_43\", \"sensor_type\"] = \"PRESSURE\"\n",
    "df_anon_high_res.loc[df_anon_high_res[\"sensor_tag\"] == \"SENSOR_44\", \"sensor_type\"] = \"TEMPERATURE\"\n",
    "\n",
    "df_anon_high_res.loc[df_anon_high_res[\"sensor_tag\"] == \"SENSOR_45\", \"sensor_type\"] = \"FREQUENCY\"\n",
    "df_anon_high_res.loc[df_anon_high_res[\"sensor_tag\"] == \"SENSOR_46\", \"sensor_type\"] = \"FREQUENCY\"\n",
    "\n",
    "df_anon_high_res.loc[df_anon_high_res[\"sensor_tag\"] == \"SENSOR_47\", \"sensor_type\"] = \"FLOW\"\n",
    "df_anon_high_res.loc[df_anon_high_res[\"sensor_tag\"] == \"SENSOR_48\", \"sensor_type\"] = \"FLOW\"\n",
    "df_anon_high_res.loc[df_anon_high_res[\"sensor_tag\"] == \"SENSOR_49\", \"sensor_type\"] = \"FLOW\"\n",
    "df_anon_high_res.loc[df_anon_high_res[\"sensor_tag\"] == \"SENSOR_50\", \"sensor_type\"] = \"FLOW\"\n",
    "df_anon_high_res.loc[df_anon_high_res[\"sensor_tag\"] == \"SENSOR_51\", \"sensor_type\"] = \"FLOW\"\n",
    "df_anon_high_res.loc[df_anon_high_res[\"sensor_tag\"] == \"SENSOR_52\", \"sensor_type\"] = \"FLOW\"\n",
    "df_anon_high_res.loc[df_anon_high_res[\"sensor_tag\"] == \"SENSOR_53\", \"sensor_type\"] = \"FLOW\"\n",
    "df_anon_high_res.loc[df_anon_high_res[\"sensor_tag\"] == \"SENSOR_54\", \"sensor_type\"] = \"FLOW\"\n",
    "df_anon_high_res.loc[df_anon_high_res[\"sensor_tag\"] == \"SENSOR_55\", \"sensor_type\"] = \"FLOW\"\n",
    "df_anon_high_res.loc[df_anon_high_res[\"sensor_tag\"] == \"SENSOR_56\", \"sensor_type\"] = \"FLOW\"\n",
    "df_anon_high_res.loc[df_anon_high_res[\"sensor_tag\"] == \"SENSOR_57\", \"sensor_type\"] = \"FLOW\"\n",
    "df_anon_high_res.loc[df_anon_high_res[\"sensor_tag\"] == \"SENSOR_58\", \"sensor_type\"] = \"FLOW\"\n",
    "df_anon_high_res.loc[df_anon_high_res[\"sensor_tag\"] == \"SENSOR_59\", \"sensor_type\"] = \"FLOW\"\n",
    "df_anon_high_res.loc[df_anon_high_res[\"sensor_tag\"] == \"SENSOR_60\", \"sensor_type\"] = \"FLOW\"\n",
    "\n",
    "df_anon_high_res.loc[df_anon_high_res[\"sensor_tag\"] == \"SENSOR_61\", \"sensor_type\"] = \"SPEED\"\n",
    "df_anon_high_res.loc[df_anon_high_res[\"sensor_tag\"] == \"SENSOR_62\", \"sensor_type\"] = \"PERCENTAGE\"\n",
    "df_anon_high_res.loc[df_anon_high_res[\"sensor_tag\"] == \"SENSOR_63\", \"sensor_type\"] = \"TIME\"\n",
    "\n",
    "df_anon_high_res.loc[df_anon_high_res[\"sensor_tag\"] == \"SENSOR_64\", \"sensor_type\"] = \"FLOW\"\n",
    "df_anon_high_res.loc[df_anon_high_res[\"sensor_tag\"] == \"SENSOR_65\", \"sensor_type\"] = \"FLOW\"\n",
    "df_anon_high_res.loc[df_anon_high_res[\"sensor_tag\"] == \"SENSOR_66\", \"sensor_type\"] = \"FLOW\"\n",
    "df_anon_high_res.loc[df_anon_high_res[\"sensor_tag\"] == \"SENSOR_67\", \"sensor_type\"] = \"FLOW\"\n",
    "df_anon_high_res.loc[df_anon_high_res[\"sensor_tag\"] == \"SENSOR_68\", \"sensor_type\"] = \"FLOW\"\n",
    "df_anon_high_res.loc[df_anon_high_res[\"sensor_tag\"] == \"SENSOR_69\", \"sensor_type\"] = \"FLOW\""
   ]
  },
  {
   "cell_type": "code",
   "execution_count": 7,
   "id": "747a85a1-1fa9-47c1-baaa-2214f1d3a761",
   "metadata": {},
   "outputs": [],
   "source": [
    "df_anon_high_res.loc[df_anon_high_res[\"sensor_tag\"] == \"SENSOR_15\", \"equipment_type\"] = \"TANK\""
   ]
  },
  {
   "cell_type": "markdown",
   "id": "506985fa-75af-4f12-a687-bfdc31cd8fd8",
   "metadata": {},
   "source": [
    "**Set data types**"
   ]
  },
  {
   "cell_type": "code",
   "execution_count": 8,
   "id": "7782f3a5-ca5a-4885-aa5a-23eaed8e6ebc",
   "metadata": {},
   "outputs": [],
   "source": [
    "df_anon_high_res[\"timestamp\"] = pd.to_datetime(df_anon_high_res[\"timestamp\"])\n",
    "df_anon_high_res[\"sensor_tag\"] = df_anon_high_res[\"sensor_tag\"].astype(\"category\")\n",
    "df_anon_high_res[\"value\"] = df_anon_high_res[\"value\"].astype(\"float\")\n",
    "df_anon_high_res[\"sensor_type\"] = df_anon_high_res[\"sensor_type\"].astype(\"category\")\n",
    "df_anon_high_res[\"equipment_type\"] = df_anon_high_res[\"equipment_type\"].astype(\"category\")"
   ]
  },
  {
   "cell_type": "markdown",
   "id": "2fb64a61-7522-49b1-b5e6-94060c282750",
   "metadata": {},
   "source": [
    "### 3.2.2 Clean data"
   ]
  },
  {
   "cell_type": "markdown",
   "id": "e9ff316b-af62-4029-bdd2-7b0eb5f38163",
   "metadata": {},
   "source": [
    "**Remove duplicate rows**"
   ]
  },
  {
   "cell_type": "code",
   "execution_count": 9,
   "id": "6bd9114e-37fe-43ee-aee5-6b6913f0e47f",
   "metadata": {},
   "outputs": [
    {
     "name": "stdout",
     "output_type": "stream",
     "text": [
      "Rows (Before): 1416864\n",
      "Rows (After): 1416381\n"
     ]
    }
   ],
   "source": [
    "print(f\"Rows (Before): {df_anon_high_res.shape[0]}\")\n",
    "df_anon_high_res = df_anon_high_res.drop_duplicates(subset = ['timestamp', 'sensor_tag'], keep = False)\n",
    "print(f\"Rows (After): {df_anon_high_res.shape[0]}\")"
   ]
  },
  {
   "cell_type": "markdown",
   "id": "ec5fb7b5-1a6d-4eb1-8e24-f6d30c534733",
   "metadata": {
    "jp-MarkdownHeadingCollapsed": true,
    "tags": []
   },
   "source": [
    "**Remove missing data**"
   ]
  },
  {
   "cell_type": "code",
   "execution_count": 10,
   "id": "8d3906d9-465f-4e77-bddd-023d4fe635de",
   "metadata": {},
   "outputs": [
    {
     "name": "stdout",
     "output_type": "stream",
     "text": [
      "Rows (Before): 1416381\n",
      "Rows (After): 1393345\n"
     ]
    }
   ],
   "source": [
    "print(f\"Rows (Before): {df_anon_high_res.shape[0]}\")\n",
    "df_anon_high_res = df_anon_high_res.dropna(subset=\"value\")\n",
    "print(f\"Rows (After): {df_anon_high_res.shape[0]}\")"
   ]
  },
  {
   "cell_type": "markdown",
   "id": "bcf056b2-131d-49b0-812d-ec402a3617ed",
   "metadata": {},
   "source": [
    "**Remove unused sensors**"
   ]
  },
  {
   "cell_type": "code",
   "execution_count": 11,
   "id": "6b029d90-6ad8-42e0-bbda-f4abcd59c358",
   "metadata": {},
   "outputs": [],
   "source": [
    "exclude = [\n",
    "    \"SENSOR_04\", # No variation\n",
    "    \"SENSOR_05\", # Irregular lab measurements\n",
    "    \"SENSOR_06\", # Irregular lab measurements\n",
    "    \"SENSOR_07\", # Irregular lab measurements\n",
    "    \"SENSOR_08\", # Irregular lab measurements\n",
    "    \"SENSOR_09\", # Irregular lab measurements\n",
    "    \"SENSOR_10\", # Irregular lab measurements\n",
    "    \"SENSOR_11\", # Irregular lab measurements\n",
    "    \"SENSOR_12\", # Irregular lab measurements\n",
    "    \"SENSOR_13\", # Irregular lab measurements\n",
    "    \"SENSOR_14\", # Ignore this sensor (Arjen)\n",
    "    \"SENSOR_17\", # No data points\n",
    "    \"SENSOR_18\", # No data points\n",
    "    \"SENSOR_19\", # No data points\n",
    "    \"SENSOR_20\", # No data points\n",
    "    \"SENSOR_46\", # No variation\n",
    "    \"SENSOR_50\", # No variation\n",
    "    \"SENSOR_54\", # No variation\n",
    "]\n",
    "\n",
    "df_anon_high_res = df_anon_high_res[~df_anon_high_res[\"sensor_tag\"].isin(exclude)]"
   ]
  },
  {
   "cell_type": "markdown",
   "id": "fe82f804-645a-4a3c-863c-e9a3c2ae47bb",
   "metadata": {},
   "source": [
    "**Reset index**"
   ]
  },
  {
   "cell_type": "code",
   "execution_count": 12,
   "id": "af06e29e-663d-41ec-9e51-e664e326f1cc",
   "metadata": {},
   "outputs": [],
   "source": [
    "df_anon_high_res = df_anon_high_res.reset_index(drop=True)"
   ]
  },
  {
   "cell_type": "markdown",
   "id": "d0812872-19bd-4d59-a844-c5dd0a3006e1",
   "metadata": {},
   "source": [
    "**Sort rows**"
   ]
  },
  {
   "cell_type": "code",
   "execution_count": 13,
   "id": "31cbb678-17fe-4add-abc8-a39244cb5eb3",
   "metadata": {},
   "outputs": [],
   "source": [
    "df_anon_high_res = df_anon_high_res.sort_values([\"sensor_tag\", \"timestamp\"])"
   ]
  },
  {
   "cell_type": "markdown",
   "id": "202bb83c-173e-47a6-9c06-698f75019002",
   "metadata": {},
   "source": [
    "### 3.2.3 Interpolate data"
   ]
  },
  {
   "cell_type": "code",
   "execution_count": 14,
   "id": "5a74906b",
   "metadata": {},
   "outputs": [
    {
     "ename": "ValueError",
     "evalue": "cannot insert timestamp, already exists",
     "output_type": "error",
     "traceback": [
      "\u001b[0;31m---------------------------------------------------------------------------\u001b[0m",
      "\u001b[0;31mValueError\u001b[0m                                Traceback (most recent call last)",
      "Cell \u001b[0;32mIn [14], line 28\u001b[0m\n\u001b[1;32m     26\u001b[0m df_interpolation[\u001b[38;5;124m'\u001b[39m\u001b[38;5;124mtimestamp\u001b[39m\u001b[38;5;124m'\u001b[39m] \u001b[38;5;241m=\u001b[39m df_interpolation\u001b[38;5;241m.\u001b[39mindex\n\u001b[1;32m     27\u001b[0m df_interpolation\u001b[38;5;241m.\u001b[39mindex \u001b[38;5;241m=\u001b[39m \u001b[38;5;28mrange\u001b[39m(\u001b[38;5;28mlen\u001b[39m(df_interpolation))\n\u001b[0;32m---> 28\u001b[0m df_anon_high_res \u001b[38;5;241m=\u001b[39m df_anon_high_res\u001b[38;5;241m.\u001b[39mreset_index()\n\u001b[1;32m     30\u001b[0m \u001b[38;5;28;01mimport\u001b[39;00m \u001b[38;5;21;01mpickle\u001b[39;00m\n\u001b[1;32m     32\u001b[0m \u001b[38;5;28;01mwith\u001b[39;00m \u001b[38;5;28mopen\u001b[39m(\u001b[38;5;124m'\u001b[39m\u001b[38;5;124mdf_interpolation_V2.pkl\u001b[39m\u001b[38;5;124m'\u001b[39m, \u001b[38;5;124m'\u001b[39m\u001b[38;5;124mwb\u001b[39m\u001b[38;5;124m'\u001b[39m) \u001b[38;5;28;01mas\u001b[39;00m file:  \n\u001b[1;32m     33\u001b[0m     \u001b[38;5;66;03m# A new file will be created\u001b[39;00m\n",
      "File \u001b[0;32m~/Projects/data-driven-food-value-chain/venv/lib/python3.8/site-packages/pandas/util/_decorators.py:331\u001b[0m, in \u001b[0;36mdeprecate_nonkeyword_arguments.<locals>.decorate.<locals>.wrapper\u001b[0;34m(*args, **kwargs)\u001b[0m\n\u001b[1;32m    325\u001b[0m \u001b[38;5;28;01mif\u001b[39;00m \u001b[38;5;28mlen\u001b[39m(args) \u001b[38;5;241m>\u001b[39m num_allow_args:\n\u001b[1;32m    326\u001b[0m     warnings\u001b[38;5;241m.\u001b[39mwarn(\n\u001b[1;32m    327\u001b[0m         msg\u001b[38;5;241m.\u001b[39mformat(arguments\u001b[38;5;241m=\u001b[39m_format_argument_list(allow_args)),\n\u001b[1;32m    328\u001b[0m         \u001b[38;5;167;01mFutureWarning\u001b[39;00m,\n\u001b[1;32m    329\u001b[0m         stacklevel\u001b[38;5;241m=\u001b[39mfind_stack_level(),\n\u001b[1;32m    330\u001b[0m     )\n\u001b[0;32m--> 331\u001b[0m \u001b[38;5;28;01mreturn\u001b[39;00m \u001b[43mfunc\u001b[49m\u001b[43m(\u001b[49m\u001b[38;5;241;43m*\u001b[39;49m\u001b[43margs\u001b[49m\u001b[43m,\u001b[49m\u001b[43m \u001b[49m\u001b[38;5;241;43m*\u001b[39;49m\u001b[38;5;241;43m*\u001b[39;49m\u001b[43mkwargs\u001b[49m\u001b[43m)\u001b[49m\n",
      "File \u001b[0;32m~/Projects/data-driven-food-value-chain/venv/lib/python3.8/site-packages/pandas/core/frame.py:6350\u001b[0m, in \u001b[0;36mDataFrame.reset_index\u001b[0;34m(self, level, drop, inplace, col_level, col_fill, allow_duplicates, names)\u001b[0m\n\u001b[1;32m   6344\u001b[0m         \u001b[38;5;28;01mif\u001b[39;00m lab \u001b[38;5;129;01mis\u001b[39;00m \u001b[38;5;129;01mnot\u001b[39;00m \u001b[38;5;28;01mNone\u001b[39;00m:\n\u001b[1;32m   6345\u001b[0m             \u001b[38;5;66;03m# if we have the codes, extract the values with a mask\u001b[39;00m\n\u001b[1;32m   6346\u001b[0m             level_values \u001b[38;5;241m=\u001b[39m algorithms\u001b[38;5;241m.\u001b[39mtake(\n\u001b[1;32m   6347\u001b[0m                 level_values, lab, allow_fill\u001b[38;5;241m=\u001b[39m\u001b[38;5;28;01mTrue\u001b[39;00m, fill_value\u001b[38;5;241m=\u001b[39mlev\u001b[38;5;241m.\u001b[39m_na_value\n\u001b[1;32m   6348\u001b[0m             )\n\u001b[0;32m-> 6350\u001b[0m         \u001b[43mnew_obj\u001b[49m\u001b[38;5;241;43m.\u001b[39;49m\u001b[43minsert\u001b[49m\u001b[43m(\u001b[49m\n\u001b[1;32m   6351\u001b[0m \u001b[43m            \u001b[49m\u001b[38;5;241;43m0\u001b[39;49m\u001b[43m,\u001b[49m\n\u001b[1;32m   6352\u001b[0m \u001b[43m            \u001b[49m\u001b[43mname\u001b[49m\u001b[43m,\u001b[49m\n\u001b[1;32m   6353\u001b[0m \u001b[43m            \u001b[49m\u001b[43mlevel_values\u001b[49m\u001b[43m,\u001b[49m\n\u001b[1;32m   6354\u001b[0m \u001b[43m            \u001b[49m\u001b[43mallow_duplicates\u001b[49m\u001b[38;5;241;43m=\u001b[39;49m\u001b[43mallow_duplicates\u001b[49m\u001b[43m,\u001b[49m\n\u001b[1;32m   6355\u001b[0m \u001b[43m        \u001b[49m\u001b[43m)\u001b[49m\n\u001b[1;32m   6357\u001b[0m new_obj\u001b[38;5;241m.\u001b[39mindex \u001b[38;5;241m=\u001b[39m new_index\n\u001b[1;32m   6358\u001b[0m \u001b[38;5;28;01mif\u001b[39;00m \u001b[38;5;129;01mnot\u001b[39;00m inplace:\n",
      "File \u001b[0;32m~/Projects/data-driven-food-value-chain/venv/lib/python3.8/site-packages/pandas/core/frame.py:4806\u001b[0m, in \u001b[0;36mDataFrame.insert\u001b[0;34m(self, loc, column, value, allow_duplicates)\u001b[0m\n\u001b[1;32m   4800\u001b[0m     \u001b[38;5;28;01mraise\u001b[39;00m \u001b[38;5;167;01mValueError\u001b[39;00m(\n\u001b[1;32m   4801\u001b[0m         \u001b[38;5;124m\"\u001b[39m\u001b[38;5;124mCannot specify \u001b[39m\u001b[38;5;124m'\u001b[39m\u001b[38;5;124mallow_duplicates=True\u001b[39m\u001b[38;5;124m'\u001b[39m\u001b[38;5;124m when \u001b[39m\u001b[38;5;124m\"\u001b[39m\n\u001b[1;32m   4802\u001b[0m         \u001b[38;5;124m\"\u001b[39m\u001b[38;5;124m'\u001b[39m\u001b[38;5;124mself.flags.allows_duplicate_labels\u001b[39m\u001b[38;5;124m'\u001b[39m\u001b[38;5;124m is False.\u001b[39m\u001b[38;5;124m\"\u001b[39m\n\u001b[1;32m   4803\u001b[0m     )\n\u001b[1;32m   4804\u001b[0m \u001b[38;5;28;01mif\u001b[39;00m \u001b[38;5;129;01mnot\u001b[39;00m allow_duplicates \u001b[38;5;129;01mand\u001b[39;00m column \u001b[38;5;129;01min\u001b[39;00m \u001b[38;5;28mself\u001b[39m\u001b[38;5;241m.\u001b[39mcolumns:\n\u001b[1;32m   4805\u001b[0m     \u001b[38;5;66;03m# Should this be a different kind of error??\u001b[39;00m\n\u001b[0;32m-> 4806\u001b[0m     \u001b[38;5;28;01mraise\u001b[39;00m \u001b[38;5;167;01mValueError\u001b[39;00m(\u001b[38;5;124mf\u001b[39m\u001b[38;5;124m\"\u001b[39m\u001b[38;5;124mcannot insert \u001b[39m\u001b[38;5;132;01m{\u001b[39;00mcolumn\u001b[38;5;132;01m}\u001b[39;00m\u001b[38;5;124m, already exists\u001b[39m\u001b[38;5;124m\"\u001b[39m)\n\u001b[1;32m   4807\u001b[0m \u001b[38;5;28;01mif\u001b[39;00m \u001b[38;5;129;01mnot\u001b[39;00m \u001b[38;5;28misinstance\u001b[39m(loc, \u001b[38;5;28mint\u001b[39m):\n\u001b[1;32m   4808\u001b[0m     \u001b[38;5;28;01mraise\u001b[39;00m \u001b[38;5;167;01mTypeError\u001b[39;00m(\u001b[38;5;124m\"\u001b[39m\u001b[38;5;124mloc must be int\u001b[39m\u001b[38;5;124m\"\u001b[39m)\n",
      "\u001b[0;31mValueError\u001b[0m: cannot insert timestamp, already exists"
     ]
    }
   ],
   "source": [
    "df_anon_high_res.index = df_anon_high_res['timestamp']\n",
    "unique_sensors = df_anon_high_res['sensor_tag'].unique()\n",
    "\n",
    "df_interpolation = pd.DataFrame(columns = df_anon_high_res.columns)\n",
    "\n",
    "for sensor in unique_sensors: \n",
    "\n",
    "    temp_df = df_anon_high_res[df_anon_high_res['sensor_tag'] == sensor]\n",
    "\n",
    "    if sensor in ['SENSOR_01', 'SENSOR_02', 'SENSOR_28', 'SENSOR_29', 'SENSOR_31', 'SENSOR_32', 'SENSOR_32', 'SENSOR_33', 'SENSOR_34', 'SENSOR_35', 'SENSOR_36', 'SENSOR_37', \n",
    "                 'SENSOR_38', 'SENSOR_32', 'SENSOR_40' ]:\n",
    "        interpolation_df = pd.DataFrame(temp_df['value'].resample('1S').interpolate(\"ffill\"))\n",
    "        interpolation_df['sensor_tag'] = sensor\n",
    "        interpolation_df['sensor_type'] = temp_df['sensor_type'][0]\n",
    "        interpolation_df['equipment_type'] = temp_df['equipment_type'][0]\n",
    "\n",
    "        df_interpolation = pd.concat([df_interpolation, interpolation_df], axis = 0)\n",
    "    else:\n",
    "        interpolation_df = pd.DataFrame(temp_df['value'].resample('1S').interpolate(\"ffill\"))\n",
    "        interpolation_df['sensor_tag'] = sensor\n",
    "        interpolation_df['sensor_type'] = temp_df['sensor_type'][0]\n",
    "        interpolation_df['equipment_type'] = temp_df['equipment_type'][0]\n",
    "\n",
    "        df_interpolation = pd.concat([df_interpolation, interpolation_df], axis = 0)\n",
    "\n",
    "df_interpolation['timestamp'] = df_interpolation.index\n",
    "df_interpolation.index = range(len(df_interpolation))\n",
    "df_anon_high_res = df_anon_high_res.reset_index()\n",
    "\n",
    "import pickle\n",
    "\n",
    "with open('df_interpolation_V2.pkl', 'wb') as file:  \n",
    "    # A new file will be created\n",
    "    pickle.dump(df_interpolation, file)"
   ]
  },
  {
   "cell_type": "code",
   "execution_count": null,
   "id": "b2675405",
   "metadata": {},
   "outputs": [],
   "source": [
    "df_interpolation"
   ]
  },
  {
   "cell_type": "markdown",
   "id": "b5235495-d671-4e77-a09d-546eedcc5931",
   "metadata": {},
   "source": [
    "## 3.3 Explore data"
   ]
  },
  {
   "cell_type": "markdown",
   "id": "2cc2e2d9-1266-4729-ad28-499745d1d5c2",
   "metadata": {},
   "source": [
    "### 3.3.1 Inspect rows"
   ]
  },
  {
   "cell_type": "code",
   "execution_count": null,
   "id": "e2d4df72-df73-4dc5-874e-3d05bbeb3267",
   "metadata": {},
   "outputs": [],
   "source": [
    "df_anon_high_res.head(10)"
   ]
  },
  {
   "cell_type": "markdown",
   "id": "ba8c13e3-c3c0-4797-8627-e40dd968d5ae",
   "metadata": {},
   "source": [
    "### 3.3.2 Inspect data types"
   ]
  },
  {
   "cell_type": "code",
   "execution_count": null,
   "id": "12ffda3d-cc9e-435c-b9bb-7429c000ed1c",
   "metadata": {},
   "outputs": [],
   "source": [
    "df_anon_high_res.info()"
   ]
  },
  {
   "cell_type": "markdown",
   "id": "b2ed9cd9-3642-4578-9f4b-1949a49682c7",
   "metadata": {},
   "source": [
    "### 3.3.3 Inspect basic statistics"
   ]
  },
  {
   "cell_type": "code",
   "execution_count": null,
   "id": "f0c6b611-4dc1-44d3-bb90-b3e0548c6075",
   "metadata": {},
   "outputs": [],
   "source": [
    "df_anon_high_res.describe(include=\"all\")"
   ]
  },
  {
   "cell_type": "markdown",
   "id": "fbd6e189-f26e-4232-ac5a-9951026db086",
   "metadata": {},
   "source": [
    "### 3.3.4 Inspect missing data"
   ]
  },
  {
   "cell_type": "code",
   "execution_count": null,
   "id": "a000c80a-e22f-4183-812f-01665b65bdf6",
   "metadata": {},
   "outputs": [],
   "source": [
    "df_anon_high_res_percent_missing = df_anon_high_res.isnull().sum() * 100 / len(df_anon_high_res)\n",
    "\n",
    "df_anon_high_res_missing_data = pd.DataFrame({\"PERCENT_MISSING\": df_anon_high_res_percent_missing}, index=df_anon_high_res.columns)\n",
    "df_anon_high_res_missing_data"
   ]
  },
  {
   "cell_type": "markdown",
   "id": "4fcf9ece-6b8f-4988-a60d-8d5d6437bb1a",
   "metadata": {},
   "source": [
    "### 3.3.5 Inspect data overview"
   ]
  },
  {
   "cell_type": "code",
   "execution_count": null,
   "id": "ae1ef20e-d162-4f2a-887b-5c2e0ea82242",
   "metadata": {},
   "outputs": [],
   "source": [
    "def display_overview(df, subset=None, start=None, end=None):\n",
    "    tags = [tag for tag in df[\"sensor_tag\"].unique() if subset is None or tag in subset]\n",
    "    start = start or df[\"timestamp\"].min()\n",
    "    end = end or df[\"timestamp\"].max()\n",
    "    overview = pd.DataFrame()\n",
    "\n",
    "    for tag in tags:\n",
    "        subset = df[(df[\"sensor_tag\"] == tag) & (df[\"timestamp\"] >= start) & (df[\"timestamp\"] <= end)].copy()\n",
    "\n",
    "        overview = pd.concat([overview, pd.DataFrame([{\n",
    "            \"SENSOR_TAG\": tag,\n",
    "            \"SENSOR_TYPE\": subset[\"sensor_type\"].iloc[0] if len(subset[\"sensor_type\"]) > 0 else np.nan,\n",
    "            \"EQUIPMENT_TYPE\": subset[\"equipment_type\"].iloc[0] if len(subset[\"equipment_type\"]) > 0 else np.nan,\n",
    "            \"VALUE_MEAN\": subset[\"value\"].mean(),\n",
    "            \"VALUE_STD\": subset[\"value\"].std(),\n",
    "            \"VALUE_MIN\": subset[\"value\"].min(),\n",
    "            \"VALUE_25\": subset[\"value\"].quantile(0.25),\n",
    "            \"VALUE_50\": subset[\"value\"].quantile(0.50),\n",
    "            \"VALUE_75\": subset[\"value\"].quantile(0.75),\n",
    "            \"VALUE_MAX\": subset[\"value\"].max(),\n",
    "            \"TIMESTAMP_INTERVAL\": (subset[\"timestamp\"].max() - subset[\"timestamp\"].min()) / len(subset),\n",
    "        }])], ignore_index=True)\n",
    "\n",
    "    with pd.option_context(\"display.max_rows\", 70, \"display.max_columns\", 20):\n",
    "        display(overview)\n",
    "\n",
    "\n",
    "def plot_overview(df, subset=None, start=None, end=None, kind=\"line\", normalize=False):\n",
    "    tags = [tag for tag in df[\"sensor_tag\"].unique() if subset is None or tag in subset]\n",
    "    colors = plt.cm.get_cmap(\"tab20\").colors\n",
    "    start = start or df[\"timestamp\"].min()\n",
    "    end = end or df[\"timestamp\"].max()\n",
    "\n",
    "    fig, axes = plt.subplots(\n",
    "        len(tags),\n",
    "        1,\n",
    "        figsize=(24, len(tags)),\n",
    "        sharex=True,\n",
    "        sharey=False,\n",
    "    )\n",
    "\n",
    "    for idx, tag in enumerate(tags):\n",
    "        subset = df[(df[\"sensor_tag\"] == tag) & (df[\"timestamp\"] >= start) & (df[\"timestamp\"] <= end)].copy()\n",
    "        subset[\"sensor_tag\"] = subset.apply(\n",
    "            lambda row: f\"{row['sensor_tag'].split('_')[1]}_{row['sensor_type']}_{row['equipment_type']}\",\n",
    "            axis=1,\n",
    "        )\n",
    "\n",
    "        if normalize:\n",
    "            scaler = MinMaxScaler()\n",
    "            values = scaler.fit_transform(subset[\"value\"].to_numpy().reshape(-1, 1))\n",
    "        else:\n",
    "            values = subset[\"value\"]\n",
    "\n",
    "        fig.add_subplot(axes[idx])\n",
    "\n",
    "        if kind == \"line\":\n",
    "            plt.plot(\n",
    "                subset[\"timestamp\"],\n",
    "                values,\n",
    "                color=colors[idx % len(colors)],\n",
    "                label=subset[\"sensor_tag\"].iloc[0],\n",
    "                marker=\".\",\n",
    "            )\n",
    "            plt.legend(loc=\"upper right\")\n",
    "        elif kind == \"scatter\":\n",
    "            plt.scatter(\n",
    "                subset[\"timestamp\"],\n",
    "                values,\n",
    "                color=colors[idx % len(colors)],\n",
    "                label=subset[\"sensor_tag\"].iloc[0],\n",
    "                marker=\".\",\n",
    "            )\n",
    "            plt.legend(loc=\"upper right\")\n",
    "        else:\n",
    "            raise ValueError(\"'kind' must be either 'line' or 'scatter'\")\n",
    "\n",
    "    plt.tight_layout()\n",
    "    plt.subplots_adjust(wspace=0, hspace=0.07)\n",
    "    plt.margins(x=0, y=0)\n",
    "    plt.show()\n",
    "\n",
    "\n",
    "def plot_correlation(df, subset=None, start=None, end=None, freq=None):\n",
    "    tags = [tag for tag in df[\"sensor_tag\"].unique() if subset is None or tag in subset]\n",
    "    start = start or df[\"timestamp\"].min()\n",
    "    end = end or df[\"timestamp\"].max()\n",
    "\n",
    "    subset = df[df[\"sensor_tag\"].isin(tags) & (df[\"timestamp\"] >= start) & (df[\"timestamp\"] <= end)].copy()\n",
    "    subset[\"sensor_tag\"] = subset.apply(\n",
    "        lambda row: f\"{row['sensor_tag'].split('_')[1]}_{row['sensor_type']}_{row['equipment_type']}\",\n",
    "        axis=1,\n",
    "    )\n",
    "\n",
    "    pivot = subset.pivot_table(index=\"timestamp\", columns=\"sensor_tag\", values=\"value\")\n",
    "    pivot = pivot.reset_index()\n",
    "    pivot = pivot.groupby(\"timestamp\" if not freq else pd.Grouper(key=\"timestamp\", freq=freq)).mean()\n",
    "\n",
    "    _, ax = plt.subplots(figsize=(24, 24))\n",
    "\n",
    "    sns.heatmap(\n",
    "        pivot.corr(),\n",
    "        vmax=1.0,\n",
    "        cmap=sns.diverging_palette(220, 10, as_cmap=True),\n",
    "        cbar=False,\n",
    "        square=True,\n",
    "        annot=True,\n",
    "        ax=ax,\n",
    "        linewidths=0.1,\n",
    "        linecolor=\"white\",\n",
    "    )\n",
    "\n",
    "    plt.tight_layout()\n",
    "    plt.xlabel(None)\n",
    "    plt.ylabel(None)\n",
    "    plt.show()"
   ]
  },
  {
   "cell_type": "code",
   "execution_count": null,
   "id": "ad6a8682-b489-465f-9c65-ba37ba4ffb06",
   "metadata": {},
   "outputs": [],
   "source": [
    "display_overview(\n",
    "    df_anon_high_res,\n",
    "    subset=None,\n",
    "    start=\"2022-01-24 00:00:00\",\n",
    "    end=\"2022-01-25 00:00:00\",\n",
    ")"
   ]
  },
  {
   "cell_type": "code",
   "execution_count": null,
   "id": "e599b16c-4aba-4bc8-b8a7-ee8ff5a8ec96",
   "metadata": {},
   "outputs": [],
   "source": [
    "plot_overview(\n",
    "    df_anon_high_res,\n",
    "    subset=None,\n",
    "    start=\"2022-01-24 00:00:00\",\n",
    "    end=\"2022-01-25 00:00:00\",\n",
    "    kind=\"scatter\",\n",
    "    normalize=True,\n",
    ")"
   ]
  },
  {
   "cell_type": "code",
   "execution_count": null,
   "id": "06cf5740-fb47-4947-9ea1-1951195a5cb3",
   "metadata": {},
   "outputs": [],
   "source": [
    "plot_correlation(\n",
    "    df_anon_high_res,\n",
    "    subset=None,\n",
    "    start=\"2022-01-24 00:00:00\",\n",
    "    end=\"2022-01-25 00:00:00\",\n",
    "    freq=None,\n",
    ")"
   ]
  },
  {
   "cell_type": "markdown",
   "id": "63d52c0e-ed39-4533-a386-3ff56ae5d54d",
   "metadata": {
    "tags": []
   },
   "source": [
    "# 99. Scratch"
   ]
  },
  {
   "cell_type": "code",
   "execution_count": null,
   "id": "8866b237-5e79-452c-812b-556cbe221e0e",
   "metadata": {},
   "outputs": [],
   "source": []
  }
 ],
 "metadata": {
  "kernelspec": {
   "display_name": "Python 3 (ipykernel)",
   "language": "python",
   "name": "python3"
  },
  "language_info": {
   "codemirror_mode": {
    "name": "ipython",
    "version": 3
   },
   "file_extension": ".py",
   "mimetype": "text/x-python",
   "name": "python",
   "nbconvert_exporter": "python",
   "pygments_lexer": "ipython3",
   "version": "3.8.10"
  },
  "vscode": {
   "interpreter": {
    "hash": "21b6f66a006ed79c8d9d5a851eada0c384f76eeeb5df8136a219f018c0a18e51"
   }
  }
 },
 "nbformat": 4,
 "nbformat_minor": 5
}
