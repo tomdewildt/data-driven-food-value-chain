{
 "cells": [
  {
   "cell_type": "markdown",
   "id": "54600c14",
   "metadata": {},
   "source": [
    "# 5. Sensor Data Semi-Supervised Classification"
   ]
  },
  {
   "cell_type": "code",
   "execution_count": 1,
   "id": "f5f60290",
   "metadata": {},
   "outputs": [],
   "source": [
    "from datetime import datetime\n",
    "import random\n",
    "\n",
    "from sklearn.preprocessing import MinMaxScaler\n",
    "from IPython.display import display\n",
    "from tqdm import tqdm\n",
    "\n",
    "import matplotlib.pyplot as plt\n",
    "import seaborn as sns\n",
    "import pandas as pd\n",
    "import numpy as np"
   ]
  },
  {
   "cell_type": "code",
   "execution_count": 2,
   "id": "dff3c6cb",
   "metadata": {},
   "outputs": [],
   "source": [
    "ANON_HIGH_RES_DATASET = \"../data/Anonymized High Resolution Dataset (8 Days).csv\""
   ]
  },
  {
   "cell_type": "markdown",
   "id": "0a04adb5",
   "metadata": {},
   "source": [
    "## 5.1 Import datasets"
   ]
  },
  {
   "cell_type": "code",
   "execution_count": 3,
   "id": "8837f5d2",
   "metadata": {},
   "outputs": [],
   "source": [
    "df_anon_high_res = pd.read_csv(ANON_HIGH_RES_DATASET, sep=';')"
   ]
  },
  {
   "cell_type": "markdown",
   "id": "07d28017-bf33-4a7e-b93e-f97c0cee8a7e",
   "metadata": {},
   "source": [
    "## 5.2 Preprocess data"
   ]
  },
  {
   "cell_type": "markdown",
   "id": "3607d266-2a3c-472f-a722-636d719b47b9",
   "metadata": {},
   "source": [
    "### 5.2.1 Prepare data"
   ]
  },
  {
   "cell_type": "markdown",
   "id": "c3a12056-077a-4576-ac2d-dc89b0ba8c5b",
   "metadata": {},
   "source": [
    "**Rename columns**"
   ]
  },
  {
   "cell_type": "code",
   "execution_count": 4,
   "id": "600b8585-be09-4612-bc83-676824a347b8",
   "metadata": {},
   "outputs": [],
   "source": [
    "df_anon_high_res = df_anon_high_res.rename(columns={\n",
    "    \"TS\": \"timestamp\",\n",
    "    \"Tag\": \"sensor_tag\",\n",
    "    \"Value\": \"value\",\n",
    "    \"Sensor Type\": \"sensor_type\",\n",
    "    \"Equipment Type\": \"equipment_type\",\n",
    "})"
   ]
  },
  {
   "cell_type": "markdown",
   "id": "6aa98a60-869e-4354-921b-44f33a60dfcf",
   "metadata": {},
   "source": [
    "**Set categorical values**"
   ]
  },
  {
   "cell_type": "code",
   "execution_count": 5,
   "id": "f5b9d680-cbc3-4e4a-ae7b-d5957f5c4cfc",
   "metadata": {},
   "outputs": [],
   "source": [
    "df_anon_high_res[\"sensor_tag\"] = df_anon_high_res[\"sensor_tag\"].str.split(\" \").apply(lambda x: f\"{x[0].upper()}_{x[1].zfill(2)}\")\n",
    "df_anon_high_res[\"sensor_type\"] = df_anon_high_res[\"sensor_type\"].str.upper()\n",
    "df_anon_high_res[\"equipment_type\"] = df_anon_high_res[\"equipment_type\"].str.upper()"
   ]
  },
  {
   "cell_type": "code",
   "execution_count": 6,
   "id": "5dd9a8d9-49d7-4cfc-8672-56e97a8d07d1",
   "metadata": {},
   "outputs": [],
   "source": [
    "df_anon_high_res.loc[df_anon_high_res[\"sensor_tag\"] == \"SENSOR_01\", \"sensor_type\"] = \"FLOW\"\n",
    "df_anon_high_res.loc[df_anon_high_res[\"sensor_tag\"] == \"SENSOR_02\", \"sensor_type\"] = \"FLOW\"\n",
    "\n",
    "df_anon_high_res.loc[df_anon_high_res[\"sensor_tag\"] == \"SENSOR_03\", \"sensor_type\"] = \"COUNTER\"\n",
    "df_anon_high_res.loc[df_anon_high_res[\"sensor_tag\"] == \"SENSOR_04\", \"sensor_type\"] = \"UNKNOWN\"\n",
    "\n",
    "df_anon_high_res.loc[df_anon_high_res[\"sensor_tag\"] == \"SENSOR_05\", \"sensor_type\"] = \"MEASUREMENT\"\n",
    "df_anon_high_res.loc[df_anon_high_res[\"sensor_tag\"] == \"SENSOR_06\", \"sensor_type\"] = \"MEASUREMENT\"\n",
    "df_anon_high_res.loc[df_anon_high_res[\"sensor_tag\"] == \"SENSOR_07\", \"sensor_type\"] = \"MEASUREMENT\"\n",
    "df_anon_high_res.loc[df_anon_high_res[\"sensor_tag\"] == \"SENSOR_08\", \"sensor_type\"] = \"MEASUREMENT\"\n",
    "df_anon_high_res.loc[df_anon_high_res[\"sensor_tag\"] == \"SENSOR_09\", \"sensor_type\"] = \"MEASUREMENT\"\n",
    "df_anon_high_res.loc[df_anon_high_res[\"sensor_tag\"] == \"SENSOR_10\", \"sensor_type\"] = \"MEASUREMENT\"\n",
    "df_anon_high_res.loc[df_anon_high_res[\"sensor_tag\"] == \"SENSOR_11\", \"sensor_type\"] = \"MEASUREMENT\"\n",
    "df_anon_high_res.loc[df_anon_high_res[\"sensor_tag\"] == \"SENSOR_12\", \"sensor_type\"] = \"MEASUREMENT\"\n",
    "df_anon_high_res.loc[df_anon_high_res[\"sensor_tag\"] == \"SENSOR_13\", \"sensor_type\"] = \"MEASUREMENT\"\n",
    "\n",
    "df_anon_high_res.loc[df_anon_high_res[\"sensor_tag\"] == \"SENSOR_14\", \"sensor_type\"] = \"SETTING\"\n",
    "\n",
    "df_anon_high_res.loc[df_anon_high_res[\"sensor_tag\"] == \"SENSOR_15\", \"sensor_type\"] = \"TEMPERATURE\"\n",
    "\n",
    "df_anon_high_res.loc[df_anon_high_res[\"sensor_tag\"] == \"SENSOR_16\", \"sensor_type\"] = \"FLOW\"\n",
    "df_anon_high_res.loc[df_anon_high_res[\"sensor_tag\"] == \"SENSOR_17\", \"sensor_type\"] = \"ACTUAL\"\n",
    "df_anon_high_res.loc[df_anon_high_res[\"sensor_tag\"] == \"SENSOR_18\", \"sensor_type\"] = \"SPEED\"\n",
    "df_anon_high_res.loc[df_anon_high_res[\"sensor_tag\"] == \"SENSOR_19\", \"sensor_type\"] = \"ACTUAL\"\n",
    "df_anon_high_res.loc[df_anon_high_res[\"sensor_tag\"] == \"SENSOR_20\", \"sensor_type\"] = \"SPEED\"\n",
    "\n",
    "df_anon_high_res.loc[df_anon_high_res[\"sensor_tag\"] == \"SENSOR_21\", \"sensor_type\"] = \"PERCENTAGE\"\n",
    "\n",
    "df_anon_high_res.loc[df_anon_high_res[\"sensor_tag\"] == \"SENSOR_22\", \"sensor_type\"] = \"CURRENT\"\n",
    "df_anon_high_res.loc[df_anon_high_res[\"sensor_tag\"] == \"SENSOR_23\", \"sensor_type\"] = \"FREQUENCY\"\n",
    "df_anon_high_res.loc[df_anon_high_res[\"sensor_tag\"] == \"SENSOR_24\", \"sensor_type\"] = \"TEMPERATURE\"\n",
    "df_anon_high_res.loc[df_anon_high_res[\"sensor_tag\"] == \"SENSOR_25\", \"sensor_type\"] = \"FLOW\"\n",
    "df_anon_high_res.loc[df_anon_high_res[\"sensor_tag\"] == \"SENSOR_26\", \"sensor_type\"] = \"FLOW\"\n",
    "df_anon_high_res.loc[df_anon_high_res[\"sensor_tag\"] == \"SENSOR_27\", \"sensor_type\"] = \"FLOW\"\n",
    "df_anon_high_res.loc[df_anon_high_res[\"sensor_tag\"] == \"SENSOR_28\", \"sensor_type\"] = \"FLOW\"\n",
    "\n",
    "df_anon_high_res.loc[df_anon_high_res[\"sensor_tag\"] == \"SENSOR_29\", \"sensor_type\"] = \"FLOW\"\n",
    "df_anon_high_res.loc[df_anon_high_res[\"sensor_tag\"] == \"SENSOR_30\", \"sensor_type\"] = \"TEMPERATURE\"\n",
    "\n",
    "df_anon_high_res.loc[df_anon_high_res[\"sensor_tag\"] == \"SENSOR_31\", \"sensor_type\"] = \"SETTING\"\n",
    "df_anon_high_res.loc[df_anon_high_res[\"sensor_tag\"] == \"SENSOR_32\", \"sensor_type\"] = \"SETTING\"\n",
    "df_anon_high_res.loc[df_anon_high_res[\"sensor_tag\"] == \"SENSOR_33\", \"sensor_type\"] = \"SETTING\"\n",
    "df_anon_high_res.loc[df_anon_high_res[\"sensor_tag\"] == \"SENSOR_34\", \"sensor_type\"] = \"SETTING\"\n",
    "df_anon_high_res.loc[df_anon_high_res[\"sensor_tag\"] == \"SENSOR_35\", \"sensor_type\"] = \"SETTING\"\n",
    "df_anon_high_res.loc[df_anon_high_res[\"sensor_tag\"] == \"SENSOR_36\", \"sensor_type\"] = \"SETTING\"\n",
    "df_anon_high_res.loc[df_anon_high_res[\"sensor_tag\"] == \"SENSOR_37\", \"sensor_type\"] = \"SETTING\"\n",
    "df_anon_high_res.loc[df_anon_high_res[\"sensor_tag\"] == \"SENSOR_38\", \"sensor_type\"] = \"SETTING\"\n",
    "\n",
    "df_anon_high_res.loc[df_anon_high_res[\"sensor_tag\"] == \"SENSOR_39\", \"sensor_type\"] = \"PRESSURE\"\n",
    "df_anon_high_res.loc[df_anon_high_res[\"sensor_tag\"] == \"SENSOR_40\", \"sensor_type\"] = \"FLOW\"\n",
    "df_anon_high_res.loc[df_anon_high_res[\"sensor_tag\"] == \"SENSOR_41\", \"sensor_type\"] = \"PRESSURE\"\n",
    "df_anon_high_res.loc[df_anon_high_res[\"sensor_tag\"] == \"SENSOR_42\", \"sensor_type\"] = \"TEMPERATURE\"\n",
    "df_anon_high_res.loc[df_anon_high_res[\"sensor_tag\"] == \"SENSOR_43\", \"sensor_type\"] = \"PRESSURE\"\n",
    "df_anon_high_res.loc[df_anon_high_res[\"sensor_tag\"] == \"SENSOR_44\", \"sensor_type\"] = \"TEMPERATURE\"\n",
    "\n",
    "df_anon_high_res.loc[df_anon_high_res[\"sensor_tag\"] == \"SENSOR_45\", \"sensor_type\"] = \"FREQUENCY\"\n",
    "df_anon_high_res.loc[df_anon_high_res[\"sensor_tag\"] == \"SENSOR_46\", \"sensor_type\"] = \"FREQUENCY\"\n",
    "\n",
    "df_anon_high_res.loc[df_anon_high_res[\"sensor_tag\"] == \"SENSOR_47\", \"sensor_type\"] = \"FLOW\"\n",
    "df_anon_high_res.loc[df_anon_high_res[\"sensor_tag\"] == \"SENSOR_48\", \"sensor_type\"] = \"FLOW\"\n",
    "df_anon_high_res.loc[df_anon_high_res[\"sensor_tag\"] == \"SENSOR_49\", \"sensor_type\"] = \"FLOW\"\n",
    "df_anon_high_res.loc[df_anon_high_res[\"sensor_tag\"] == \"SENSOR_50\", \"sensor_type\"] = \"FLOW\"\n",
    "df_anon_high_res.loc[df_anon_high_res[\"sensor_tag\"] == \"SENSOR_51\", \"sensor_type\"] = \"FLOW\"\n",
    "df_anon_high_res.loc[df_anon_high_res[\"sensor_tag\"] == \"SENSOR_52\", \"sensor_type\"] = \"FLOW\"\n",
    "df_anon_high_res.loc[df_anon_high_res[\"sensor_tag\"] == \"SENSOR_53\", \"sensor_type\"] = \"FLOW\"\n",
    "df_anon_high_res.loc[df_anon_high_res[\"sensor_tag\"] == \"SENSOR_54\", \"sensor_type\"] = \"FLOW\"\n",
    "df_anon_high_res.loc[df_anon_high_res[\"sensor_tag\"] == \"SENSOR_55\", \"sensor_type\"] = \"FLOW\"\n",
    "df_anon_high_res.loc[df_anon_high_res[\"sensor_tag\"] == \"SENSOR_56\", \"sensor_type\"] = \"FLOW\"\n",
    "df_anon_high_res.loc[df_anon_high_res[\"sensor_tag\"] == \"SENSOR_57\", \"sensor_type\"] = \"FLOW\"\n",
    "df_anon_high_res.loc[df_anon_high_res[\"sensor_tag\"] == \"SENSOR_58\", \"sensor_type\"] = \"FLOW\"\n",
    "df_anon_high_res.loc[df_anon_high_res[\"sensor_tag\"] == \"SENSOR_59\", \"sensor_type\"] = \"FLOW\"\n",
    "df_anon_high_res.loc[df_anon_high_res[\"sensor_tag\"] == \"SENSOR_60\", \"sensor_type\"] = \"FLOW\"\n",
    "\n",
    "df_anon_high_res.loc[df_anon_high_res[\"sensor_tag\"] == \"SENSOR_61\", \"sensor_type\"] = \"SPEED\"\n",
    "df_anon_high_res.loc[df_anon_high_res[\"sensor_tag\"] == \"SENSOR_62\", \"sensor_type\"] = \"PERCENTAGE\"\n",
    "df_anon_high_res.loc[df_anon_high_res[\"sensor_tag\"] == \"SENSOR_63\", \"sensor_type\"] = \"TIME\"\n",
    "\n",
    "df_anon_high_res.loc[df_anon_high_res[\"sensor_tag\"] == \"SENSOR_64\", \"sensor_type\"] = \"FLOW\"\n",
    "df_anon_high_res.loc[df_anon_high_res[\"sensor_tag\"] == \"SENSOR_65\", \"sensor_type\"] = \"FLOW\"\n",
    "df_anon_high_res.loc[df_anon_high_res[\"sensor_tag\"] == \"SENSOR_66\", \"sensor_type\"] = \"FLOW\"\n",
    "df_anon_high_res.loc[df_anon_high_res[\"sensor_tag\"] == \"SENSOR_67\", \"sensor_type\"] = \"FLOW\"\n",
    "df_anon_high_res.loc[df_anon_high_res[\"sensor_tag\"] == \"SENSOR_68\", \"sensor_type\"] = \"FLOW\"\n",
    "df_anon_high_res.loc[df_anon_high_res[\"sensor_tag\"] == \"SENSOR_69\", \"sensor_type\"] = \"FLOW\""
   ]
  },
  {
   "cell_type": "code",
   "execution_count": 7,
   "id": "747a85a1-1fa9-47c1-baaa-2214f1d3a761",
   "metadata": {},
   "outputs": [],
   "source": [
    "df_anon_high_res.loc[df_anon_high_res[\"sensor_tag\"] == \"SENSOR_15\", \"equipment_type\"] = \"TANK\""
   ]
  },
  {
   "cell_type": "markdown",
   "id": "506985fa-75af-4f12-a687-bfdc31cd8fd8",
   "metadata": {},
   "source": [
    "**Set data types**"
   ]
  },
  {
   "cell_type": "code",
   "execution_count": 8,
   "id": "7782f3a5-ca5a-4885-aa5a-23eaed8e6ebc",
   "metadata": {},
   "outputs": [],
   "source": [
    "df_anon_high_res[\"timestamp\"] = pd.to_datetime(df_anon_high_res[\"timestamp\"])\n",
    "df_anon_high_res[\"sensor_tag\"] = df_anon_high_res[\"sensor_tag\"].astype(\"category\")\n",
    "df_anon_high_res[\"value\"] = df_anon_high_res[\"value\"].astype(\"float\")\n",
    "df_anon_high_res[\"sensor_type\"] = df_anon_high_res[\"sensor_type\"].astype(\"category\")\n",
    "df_anon_high_res[\"equipment_type\"] = df_anon_high_res[\"equipment_type\"].astype(\"category\")"
   ]
  },
  {
   "cell_type": "markdown",
   "id": "2fb64a61-7522-49b1-b5e6-94060c282750",
   "metadata": {},
   "source": [
    "### 5.2.2 Clean data"
   ]
  },
  {
   "cell_type": "markdown",
   "id": "e9ff316b-af62-4029-bdd2-7b0eb5f38163",
   "metadata": {},
   "source": [
    "**Remove duplicate rows**"
   ]
  },
  {
   "cell_type": "code",
   "execution_count": 9,
   "id": "6bd9114e-37fe-43ee-aee5-6b6913f0e47f",
   "metadata": {},
   "outputs": [
    {
     "name": "stdout",
     "output_type": "stream",
     "text": [
      "Rows (Before): 1416864\n",
      "Rows (After): 1416381\n"
     ]
    }
   ],
   "source": [
    "print(f\"Rows (Before): {df_anon_high_res.shape[0]}\")\n",
    "df_anon_high_res = df_anon_high_res.drop_duplicates(subset = ['timestamp', 'sensor_tag'], keep = False)\n",
    "print(f\"Rows (After): {df_anon_high_res.shape[0]}\")"
   ]
  },
  {
   "cell_type": "markdown",
   "id": "ec5fb7b5-1a6d-4eb1-8e24-f6d30c534733",
   "metadata": {
    "jp-MarkdownHeadingCollapsed": true,
    "tags": []
   },
   "source": [
    "**Remove missing data**"
   ]
  },
  {
   "cell_type": "code",
   "execution_count": 10,
   "id": "8d3906d9-465f-4e77-bddd-023d4fe635de",
   "metadata": {},
   "outputs": [
    {
     "name": "stdout",
     "output_type": "stream",
     "text": [
      "Rows (Before): 1416381\n",
      "Rows (After): 1393345\n"
     ]
    }
   ],
   "source": [
    "print(f\"Rows (Before): {df_anon_high_res.shape[0]}\")\n",
    "df_anon_high_res = df_anon_high_res.dropna(subset=\"value\")\n",
    "print(f\"Rows (After): {df_anon_high_res.shape[0]}\")"
   ]
  },
  {
   "cell_type": "markdown",
   "id": "bcf056b2-131d-49b0-812d-ec402a3617ed",
   "metadata": {},
   "source": [
    "**Remove unused sensors**"
   ]
  },
  {
   "cell_type": "code",
   "execution_count": 11,
   "id": "6b029d90-6ad8-42e0-bbda-f4abcd59c358",
   "metadata": {},
   "outputs": [],
   "source": [
    "exclude = [\n",
    "    \"SENSOR_04\", # No variation\n",
    "    \"SENSOR_05\", # Irregular lab measurements\n",
    "    \"SENSOR_06\", # Irregular lab measurements\n",
    "    \"SENSOR_07\", # Irregular lab measurements\n",
    "    \"SENSOR_08\", # Irregular lab measurements\n",
    "    \"SENSOR_09\", # Irregular lab measurements\n",
    "    \"SENSOR_10\", # Irregular lab measurements\n",
    "    \"SENSOR_11\", # Irregular lab measurements\n",
    "    \"SENSOR_12\", # Irregular lab measurements\n",
    "    \"SENSOR_13\", # Irregular lab measurements\n",
    "    \"SENSOR_14\", # Ignore this sensor (Arjen)\n",
    "    \"SENSOR_17\", # No data points\n",
    "    \"SENSOR_18\", # No data points\n",
    "    \"SENSOR_19\", # No data points\n",
    "    \"SENSOR_20\", # No data points\n",
    "    \"SENSOR_46\", # No variation\n",
    "    \"SENSOR_50\", # No variation\n",
    "    \"SENSOR_54\", # No variation\n",
    "]\n",
    "\n",
    "df_anon_high_res = df_anon_high_res[~df_anon_high_res[\"sensor_tag\"].isin(exclude)]"
   ]
  },
  {
   "cell_type": "markdown",
   "id": "fe82f804-645a-4a3c-863c-e9a3c2ae47bb",
   "metadata": {},
   "source": [
    "**Reset index**"
   ]
  },
  {
   "cell_type": "code",
   "execution_count": 12,
   "id": "af06e29e-663d-41ec-9e51-e664e326f1cc",
   "metadata": {},
   "outputs": [],
   "source": [
    "df_anon_high_res = df_anon_high_res.reset_index(drop=True)"
   ]
  },
  {
   "cell_type": "markdown",
   "id": "d0812872-19bd-4d59-a844-c5dd0a3006e1",
   "metadata": {},
   "source": [
    "**Sort rows**"
   ]
  },
  {
   "cell_type": "code",
   "execution_count": 13,
   "id": "31cbb678-17fe-4add-abc8-a39244cb5eb3",
   "metadata": {},
   "outputs": [],
   "source": [
    "df_anon_high_res = df_anon_high_res.sort_values([\"sensor_tag\", \"timestamp\"])"
   ]
  },
  {
   "cell_type": "markdown",
   "id": "202bb83c-173e-47a6-9c06-698f75019002",
   "metadata": {
    "tags": []
   },
   "source": [
    "### 5.2.3 Interpolate data"
   ]
  },
  {
   "cell_type": "code",
   "execution_count": 14,
   "id": "5a74906b",
   "metadata": {},
   "outputs": [
    {
     "name": "stderr",
     "output_type": "stream",
     "text": [
      "100%|████████████████████████████████████████████████████████████████████████████████████████████████████████████████████████████████████████████████| 51/51 [00:21<00:00,  2.33it/s]\n"
     ]
    },
    {
     "name": "stdout",
     "output_type": "stream",
     "text": [
      "Rows (Before): 35246354\n",
      "Rows (After): 35239419\n",
      "CPU times: user 18.8 s, sys: 8.69 s, total: 27.5 s\n",
      "Wall time: 27.5 s\n"
     ]
    }
   ],
   "source": [
    "%%time\n",
    "# Set index to timestamp\n",
    "df_anon_high_res.index = df_anon_high_res[\"timestamp\"]\n",
    "df_anon_high_res = df_anon_high_res.drop([\"timestamp\"], axis=1)\n",
    "\n",
    "# Create dataframe and min/max dates\n",
    "df_anon_high_res_interpolated = pd.DataFrame(columns=df_anon_high_res.columns)\n",
    "df_anon_high_res_min_date = df_anon_high_res.index.min()\n",
    "df_anon_high_res_max_date = df_anon_high_res.index.max()\n",
    "\n",
    "for sensor_tag in tqdm(df_anon_high_res[\"sensor_tag\"].unique()):\n",
    "    df_subset = df_anon_high_res[df_anon_high_res[\"sensor_tag\"] == sensor_tag]\n",
    "\n",
    "    # Update min/max dates\n",
    "    if df_subset.index.min() >= df_anon_high_res_min_date:\n",
    "        df_anon_high_res_min_date = df_subset.index.min()\n",
    "    if df_subset.index.max() <= df_anon_high_res_max_date:\n",
    "        df_anon_high_res_max_date = df_subset.index.max()\n",
    "\n",
    "    # Determine interpolation method\n",
    "    if sensor_tag in [\n",
    "        \"SENSOR_01\",\n",
    "        \"SENSOR_02\",\n",
    "        \"SENSOR_28\",\n",
    "        \"SENSOR_29\",\n",
    "        \"SENSOR_31\",\n",
    "        \"SENSOR_32\",\n",
    "        \"SENSOR_32\",\n",
    "        \"SENSOR_33\",\n",
    "        \"SENSOR_34\",\n",
    "        \"SENSOR_35\",\n",
    "        \"SENSOR_36\",\n",
    "        \"SENSOR_37\",\n",
    "        \"SENSOR_38\",\n",
    "        \"SENSOR_32\",\n",
    "        \"SENSOR_40\",\n",
    "    ]:\n",
    "        method = \"ffill\"\n",
    "    else:\n",
    "        method = \"linear\"\n",
    "\n",
    "    # Interpolate data\n",
    "    df_subset_interpolated = pd.DataFrame(df_subset[\"value\"].resample(\"1S\").interpolate(method))\n",
    "    df_subset_interpolated[\"sensor_tag\"] = sensor_tag\n",
    "    df_subset_interpolated[\"sensor_type\"] = df_subset[\"sensor_type\"][0]\n",
    "    df_subset_interpolated[\"equipment_type\"] = df_subset[\"equipment_type\"][0]\n",
    "\n",
    "    # Add interpolated data\n",
    "    df_anon_high_res_interpolated = pd.concat([df_anon_high_res_interpolated, df_subset_interpolated], axis=0)\n",
    "\n",
    "# Set data types\n",
    "df_anon_high_res_interpolated[\"sensor_tag\"] = df_anon_high_res_interpolated[\"sensor_tag\"].astype(\"category\")\n",
    "df_anon_high_res_interpolated[\"value\"] = df_anon_high_res_interpolated[\"value\"].astype(\"float\")\n",
    "df_anon_high_res_interpolated[\"sensor_type\"] = df_anon_high_res_interpolated[\"sensor_type\"].astype(\"category\")\n",
    "df_anon_high_res_interpolated[\"equipment_type\"] = df_anon_high_res_interpolated[\"equipment_type\"].astype(\"category\")\n",
    "\n",
    "# Restore index to range\n",
    "print(f\"Rows (Before): {df_anon_high_res_interpolated.shape[0]}\")\n",
    "df_anon_high_res_interpolated = df_anon_high_res_interpolated.reset_index(names=\"timestamp\")\n",
    "df_anon_high_res_interpolated = df_anon_high_res_interpolated[\n",
    "    (df_anon_high_res_interpolated[\"timestamp\"] >= df_anon_high_res_min_date)\n",
    "    & (df_anon_high_res_interpolated[\"timestamp\"] <= df_anon_high_res_max_date)\n",
    "]\n",
    "df_anon_high_res = df_anon_high_res.reset_index(names=\"timestamp\")\n",
    "print(f\"Rows (After): {df_anon_high_res_interpolated.shape[0]}\")"
   ]
  },
  {
   "cell_type": "markdown",
   "id": "b5235495-d671-4e77-a09d-546eedcc5931",
   "metadata": {},
   "source": [
    "## 5.3 Explore data"
   ]
  },
  {
   "cell_type": "markdown",
   "id": "2cc2e2d9-1266-4729-ad28-499745d1d5c2",
   "metadata": {},
   "source": [
    "### 5.3.1 Inspect rows"
   ]
  },
  {
   "cell_type": "code",
   "execution_count": 15,
   "id": "301ed451-d804-4c00-971f-b537aa905884",
   "metadata": {},
   "outputs": [
    {
     "data": {
      "text/html": [
       "<div>\n",
       "<style scoped>\n",
       "    .dataframe tbody tr th:only-of-type {\n",
       "        vertical-align: middle;\n",
       "    }\n",
       "\n",
       "    .dataframe tbody tr th {\n",
       "        vertical-align: top;\n",
       "    }\n",
       "\n",
       "    .dataframe thead th {\n",
       "        text-align: right;\n",
       "    }\n",
       "</style>\n",
       "<table border=\"1\" class=\"dataframe\">\n",
       "  <thead>\n",
       "    <tr style=\"text-align: right;\">\n",
       "      <th></th>\n",
       "      <th>timestamp</th>\n",
       "      <th>sensor_tag</th>\n",
       "      <th>value</th>\n",
       "      <th>sensor_type</th>\n",
       "      <th>equipment_type</th>\n",
       "    </tr>\n",
       "  </thead>\n",
       "  <tbody>\n",
       "    <tr>\n",
       "      <th>0</th>\n",
       "      <td>2022-01-24 00:00:15</td>\n",
       "      <td>SENSOR_01</td>\n",
       "      <td>0.0</td>\n",
       "      <td>FLOW</td>\n",
       "      <td>PUMP</td>\n",
       "    </tr>\n",
       "    <tr>\n",
       "      <th>1</th>\n",
       "      <td>2022-01-24 00:02:15</td>\n",
       "      <td>SENSOR_01</td>\n",
       "      <td>0.0</td>\n",
       "      <td>FLOW</td>\n",
       "      <td>PUMP</td>\n",
       "    </tr>\n",
       "    <tr>\n",
       "      <th>2</th>\n",
       "      <td>2022-01-24 00:04:15</td>\n",
       "      <td>SENSOR_01</td>\n",
       "      <td>0.0</td>\n",
       "      <td>FLOW</td>\n",
       "      <td>PUMP</td>\n",
       "    </tr>\n",
       "    <tr>\n",
       "      <th>3</th>\n",
       "      <td>2022-01-24 00:06:15</td>\n",
       "      <td>SENSOR_01</td>\n",
       "      <td>0.0</td>\n",
       "      <td>FLOW</td>\n",
       "      <td>PUMP</td>\n",
       "    </tr>\n",
       "    <tr>\n",
       "      <th>4</th>\n",
       "      <td>2022-01-24 00:08:15</td>\n",
       "      <td>SENSOR_01</td>\n",
       "      <td>0.0</td>\n",
       "      <td>FLOW</td>\n",
       "      <td>PUMP</td>\n",
       "    </tr>\n",
       "    <tr>\n",
       "      <th>5</th>\n",
       "      <td>2022-01-24 00:10:15</td>\n",
       "      <td>SENSOR_01</td>\n",
       "      <td>0.0</td>\n",
       "      <td>FLOW</td>\n",
       "      <td>PUMP</td>\n",
       "    </tr>\n",
       "    <tr>\n",
       "      <th>6</th>\n",
       "      <td>2022-01-24 00:12:15</td>\n",
       "      <td>SENSOR_01</td>\n",
       "      <td>0.0</td>\n",
       "      <td>FLOW</td>\n",
       "      <td>PUMP</td>\n",
       "    </tr>\n",
       "    <tr>\n",
       "      <th>7</th>\n",
       "      <td>2022-01-24 00:14:15</td>\n",
       "      <td>SENSOR_01</td>\n",
       "      <td>0.0</td>\n",
       "      <td>FLOW</td>\n",
       "      <td>PUMP</td>\n",
       "    </tr>\n",
       "    <tr>\n",
       "      <th>8</th>\n",
       "      <td>2022-01-24 00:16:15</td>\n",
       "      <td>SENSOR_01</td>\n",
       "      <td>0.0</td>\n",
       "      <td>FLOW</td>\n",
       "      <td>PUMP</td>\n",
       "    </tr>\n",
       "    <tr>\n",
       "      <th>9</th>\n",
       "      <td>2022-01-24 00:18:15</td>\n",
       "      <td>SENSOR_01</td>\n",
       "      <td>0.0</td>\n",
       "      <td>FLOW</td>\n",
       "      <td>PUMP</td>\n",
       "    </tr>\n",
       "  </tbody>\n",
       "</table>\n",
       "</div>"
      ],
      "text/plain": [
       "            timestamp sensor_tag  value sensor_type equipment_type\n",
       "0 2022-01-24 00:00:15  SENSOR_01    0.0        FLOW           PUMP\n",
       "1 2022-01-24 00:02:15  SENSOR_01    0.0        FLOW           PUMP\n",
       "2 2022-01-24 00:04:15  SENSOR_01    0.0        FLOW           PUMP\n",
       "3 2022-01-24 00:06:15  SENSOR_01    0.0        FLOW           PUMP\n",
       "4 2022-01-24 00:08:15  SENSOR_01    0.0        FLOW           PUMP\n",
       "5 2022-01-24 00:10:15  SENSOR_01    0.0        FLOW           PUMP\n",
       "6 2022-01-24 00:12:15  SENSOR_01    0.0        FLOW           PUMP\n",
       "7 2022-01-24 00:14:15  SENSOR_01    0.0        FLOW           PUMP\n",
       "8 2022-01-24 00:16:15  SENSOR_01    0.0        FLOW           PUMP\n",
       "9 2022-01-24 00:18:15  SENSOR_01    0.0        FLOW           PUMP"
      ]
     },
     "execution_count": 15,
     "metadata": {},
     "output_type": "execute_result"
    }
   ],
   "source": [
    "df_anon_high_res.head(10)"
   ]
  },
  {
   "cell_type": "code",
   "execution_count": 16,
   "id": "e2d4df72-df73-4dc5-874e-3d05bbeb3267",
   "metadata": {},
   "outputs": [
    {
     "data": {
      "text/html": [
       "<div>\n",
       "<style scoped>\n",
       "    .dataframe tbody tr th:only-of-type {\n",
       "        vertical-align: middle;\n",
       "    }\n",
       "\n",
       "    .dataframe tbody tr th {\n",
       "        vertical-align: top;\n",
       "    }\n",
       "\n",
       "    .dataframe thead th {\n",
       "        text-align: right;\n",
       "    }\n",
       "</style>\n",
       "<table border=\"1\" class=\"dataframe\">\n",
       "  <thead>\n",
       "    <tr style=\"text-align: right;\">\n",
       "      <th></th>\n",
       "      <th>timestamp</th>\n",
       "      <th>sensor_tag</th>\n",
       "      <th>value</th>\n",
       "      <th>sensor_type</th>\n",
       "      <th>equipment_type</th>\n",
       "    </tr>\n",
       "  </thead>\n",
       "  <tbody>\n",
       "    <tr>\n",
       "      <th>102</th>\n",
       "      <td>2022-01-24 00:01:57</td>\n",
       "      <td>SENSOR_01</td>\n",
       "      <td>0.0</td>\n",
       "      <td>FLOW</td>\n",
       "      <td>PUMP</td>\n",
       "    </tr>\n",
       "    <tr>\n",
       "      <th>103</th>\n",
       "      <td>2022-01-24 00:01:58</td>\n",
       "      <td>SENSOR_01</td>\n",
       "      <td>0.0</td>\n",
       "      <td>FLOW</td>\n",
       "      <td>PUMP</td>\n",
       "    </tr>\n",
       "    <tr>\n",
       "      <th>104</th>\n",
       "      <td>2022-01-24 00:01:59</td>\n",
       "      <td>SENSOR_01</td>\n",
       "      <td>0.0</td>\n",
       "      <td>FLOW</td>\n",
       "      <td>PUMP</td>\n",
       "    </tr>\n",
       "    <tr>\n",
       "      <th>105</th>\n",
       "      <td>2022-01-24 00:02:00</td>\n",
       "      <td>SENSOR_01</td>\n",
       "      <td>0.0</td>\n",
       "      <td>FLOW</td>\n",
       "      <td>PUMP</td>\n",
       "    </tr>\n",
       "    <tr>\n",
       "      <th>106</th>\n",
       "      <td>2022-01-24 00:02:01</td>\n",
       "      <td>SENSOR_01</td>\n",
       "      <td>0.0</td>\n",
       "      <td>FLOW</td>\n",
       "      <td>PUMP</td>\n",
       "    </tr>\n",
       "    <tr>\n",
       "      <th>107</th>\n",
       "      <td>2022-01-24 00:02:02</td>\n",
       "      <td>SENSOR_01</td>\n",
       "      <td>0.0</td>\n",
       "      <td>FLOW</td>\n",
       "      <td>PUMP</td>\n",
       "    </tr>\n",
       "    <tr>\n",
       "      <th>108</th>\n",
       "      <td>2022-01-24 00:02:03</td>\n",
       "      <td>SENSOR_01</td>\n",
       "      <td>0.0</td>\n",
       "      <td>FLOW</td>\n",
       "      <td>PUMP</td>\n",
       "    </tr>\n",
       "    <tr>\n",
       "      <th>109</th>\n",
       "      <td>2022-01-24 00:02:04</td>\n",
       "      <td>SENSOR_01</td>\n",
       "      <td>0.0</td>\n",
       "      <td>FLOW</td>\n",
       "      <td>PUMP</td>\n",
       "    </tr>\n",
       "    <tr>\n",
       "      <th>110</th>\n",
       "      <td>2022-01-24 00:02:05</td>\n",
       "      <td>SENSOR_01</td>\n",
       "      <td>0.0</td>\n",
       "      <td>FLOW</td>\n",
       "      <td>PUMP</td>\n",
       "    </tr>\n",
       "    <tr>\n",
       "      <th>111</th>\n",
       "      <td>2022-01-24 00:02:06</td>\n",
       "      <td>SENSOR_01</td>\n",
       "      <td>0.0</td>\n",
       "      <td>FLOW</td>\n",
       "      <td>PUMP</td>\n",
       "    </tr>\n",
       "  </tbody>\n",
       "</table>\n",
       "</div>"
      ],
      "text/plain": [
       "              timestamp sensor_tag  value sensor_type equipment_type\n",
       "102 2022-01-24 00:01:57  SENSOR_01    0.0        FLOW           PUMP\n",
       "103 2022-01-24 00:01:58  SENSOR_01    0.0        FLOW           PUMP\n",
       "104 2022-01-24 00:01:59  SENSOR_01    0.0        FLOW           PUMP\n",
       "105 2022-01-24 00:02:00  SENSOR_01    0.0        FLOW           PUMP\n",
       "106 2022-01-24 00:02:01  SENSOR_01    0.0        FLOW           PUMP\n",
       "107 2022-01-24 00:02:02  SENSOR_01    0.0        FLOW           PUMP\n",
       "108 2022-01-24 00:02:03  SENSOR_01    0.0        FLOW           PUMP\n",
       "109 2022-01-24 00:02:04  SENSOR_01    0.0        FLOW           PUMP\n",
       "110 2022-01-24 00:02:05  SENSOR_01    0.0        FLOW           PUMP\n",
       "111 2022-01-24 00:02:06  SENSOR_01    0.0        FLOW           PUMP"
      ]
     },
     "execution_count": 16,
     "metadata": {},
     "output_type": "execute_result"
    }
   ],
   "source": [
    "df_anon_high_res_interpolated.head(10)"
   ]
  },
  {
   "cell_type": "markdown",
   "id": "ba8c13e3-c3c0-4797-8627-e40dd968d5ae",
   "metadata": {
    "tags": []
   },
   "source": [
    "### 5.3.2 Inspect data types"
   ]
  },
  {
   "cell_type": "code",
   "execution_count": 17,
   "id": "8f5e5254-8289-4f54-9e2f-04521509c749",
   "metadata": {},
   "outputs": [
    {
     "name": "stdout",
     "output_type": "stream",
     "text": [
      "<class 'pandas.core.frame.DataFrame'>\n",
      "RangeIndex: 1318459 entries, 0 to 1318458\n",
      "Data columns (total 5 columns):\n",
      " #   Column          Non-Null Count    Dtype         \n",
      "---  ------          --------------    -----         \n",
      " 0   timestamp       1318459 non-null  datetime64[ns]\n",
      " 1   sensor_tag      1318459 non-null  category      \n",
      " 2   value           1318459 non-null  float64       \n",
      " 3   sensor_type     1318459 non-null  category      \n",
      " 4   equipment_type  1318459 non-null  category      \n",
      "dtypes: category(3), datetime64[ns](1), float64(1)\n",
      "memory usage: 23.9 MB\n"
     ]
    }
   ],
   "source": [
    "df_anon_high_res.info()"
   ]
  },
  {
   "cell_type": "code",
   "execution_count": 18,
   "id": "12ffda3d-cc9e-435c-b9bb-7429c000ed1c",
   "metadata": {},
   "outputs": [
    {
     "name": "stdout",
     "output_type": "stream",
     "text": [
      "<class 'pandas.core.frame.DataFrame'>\n",
      "Int64Index: 35239419 entries, 102 to 35246301\n",
      "Data columns (total 5 columns):\n",
      " #   Column          Dtype         \n",
      "---  ------          -----         \n",
      " 0   timestamp       datetime64[ns]\n",
      " 1   sensor_tag      category      \n",
      " 2   value           float64       \n",
      " 3   sensor_type     category      \n",
      " 4   equipment_type  category      \n",
      "dtypes: category(3), datetime64[ns](1), float64(1)\n",
      "memory usage: 907.4 MB\n"
     ]
    }
   ],
   "source": [
    "df_anon_high_res_interpolated.info()"
   ]
  },
  {
   "cell_type": "markdown",
   "id": "b2ed9cd9-3642-4578-9f4b-1949a49682c7",
   "metadata": {},
   "source": [
    "### 5.3.3 Inspect basic statistics"
   ]
  },
  {
   "cell_type": "code",
   "execution_count": 19,
   "id": "4b916e55-cbbd-4ce2-8de1-febe9f1f8b8d",
   "metadata": {},
   "outputs": [
    {
     "name": "stderr",
     "output_type": "stream",
     "text": [
      "/tmp/ipykernel_32282/450524285.py:1: FutureWarning: Treating datetime data as categorical rather than numeric in `.describe` is deprecated and will be removed in a future version of pandas. Specify `datetime_is_numeric=True` to silence this warning and adopt the future behavior now.\n",
      "  df_anon_high_res.describe(include=\"all\")\n"
     ]
    },
    {
     "data": {
      "text/html": [
       "<div>\n",
       "<style scoped>\n",
       "    .dataframe tbody tr th:only-of-type {\n",
       "        vertical-align: middle;\n",
       "    }\n",
       "\n",
       "    .dataframe tbody tr th {\n",
       "        vertical-align: top;\n",
       "    }\n",
       "\n",
       "    .dataframe thead th {\n",
       "        text-align: right;\n",
       "    }\n",
       "</style>\n",
       "<table border=\"1\" class=\"dataframe\">\n",
       "  <thead>\n",
       "    <tr style=\"text-align: right;\">\n",
       "      <th></th>\n",
       "      <th>timestamp</th>\n",
       "      <th>sensor_tag</th>\n",
       "      <th>value</th>\n",
       "      <th>sensor_type</th>\n",
       "      <th>equipment_type</th>\n",
       "    </tr>\n",
       "  </thead>\n",
       "  <tbody>\n",
       "    <tr>\n",
       "      <th>count</th>\n",
       "      <td>1318459</td>\n",
       "      <td>1318459</td>\n",
       "      <td>1.318459e+06</td>\n",
       "      <td>1318459</td>\n",
       "      <td>1318459</td>\n",
       "    </tr>\n",
       "    <tr>\n",
       "      <th>unique</th>\n",
       "      <td>300063</td>\n",
       "      <td>51</td>\n",
       "      <td>NaN</td>\n",
       "      <td>10</td>\n",
       "      <td>4</td>\n",
       "    </tr>\n",
       "    <tr>\n",
       "      <th>top</th>\n",
       "      <td>2022-01-24 17:48:02</td>\n",
       "      <td>SENSOR_03</td>\n",
       "      <td>NaN</td>\n",
       "      <td>FLOW</td>\n",
       "      <td>PUMP</td>\n",
       "    </tr>\n",
       "    <tr>\n",
       "      <th>freq</th>\n",
       "      <td>44</td>\n",
       "      <td>86327</td>\n",
       "      <td>NaN</td>\n",
       "      <td>616221</td>\n",
       "      <td>523361</td>\n",
       "    </tr>\n",
       "    <tr>\n",
       "      <th>first</th>\n",
       "      <td>2022-01-24 00:00:04</td>\n",
       "      <td>NaN</td>\n",
       "      <td>NaN</td>\n",
       "      <td>NaN</td>\n",
       "      <td>NaN</td>\n",
       "    </tr>\n",
       "    <tr>\n",
       "      <th>last</th>\n",
       "      <td>2022-01-31 23:59:57</td>\n",
       "      <td>NaN</td>\n",
       "      <td>NaN</td>\n",
       "      <td>NaN</td>\n",
       "      <td>NaN</td>\n",
       "    </tr>\n",
       "    <tr>\n",
       "      <th>mean</th>\n",
       "      <td>NaN</td>\n",
       "      <td>NaN</td>\n",
       "      <td>1.392770e+03</td>\n",
       "      <td>NaN</td>\n",
       "      <td>NaN</td>\n",
       "    </tr>\n",
       "    <tr>\n",
       "      <th>std</th>\n",
       "      <td>NaN</td>\n",
       "      <td>NaN</td>\n",
       "      <td>4.411070e+03</td>\n",
       "      <td>NaN</td>\n",
       "      <td>NaN</td>\n",
       "    </tr>\n",
       "    <tr>\n",
       "      <th>min</th>\n",
       "      <td>NaN</td>\n",
       "      <td>NaN</td>\n",
       "      <td>-4.476077e+02</td>\n",
       "      <td>NaN</td>\n",
       "      <td>NaN</td>\n",
       "    </tr>\n",
       "    <tr>\n",
       "      <th>25%</th>\n",
       "      <td>NaN</td>\n",
       "      <td>NaN</td>\n",
       "      <td>3.791175e+01</td>\n",
       "      <td>NaN</td>\n",
       "      <td>NaN</td>\n",
       "    </tr>\n",
       "    <tr>\n",
       "      <th>50%</th>\n",
       "      <td>NaN</td>\n",
       "      <td>NaN</td>\n",
       "      <td>7.880781e+01</td>\n",
       "      <td>NaN</td>\n",
       "      <td>NaN</td>\n",
       "    </tr>\n",
       "    <tr>\n",
       "      <th>75%</th>\n",
       "      <td>NaN</td>\n",
       "      <td>NaN</td>\n",
       "      <td>2.409399e+02</td>\n",
       "      <td>NaN</td>\n",
       "      <td>NaN</td>\n",
       "    </tr>\n",
       "    <tr>\n",
       "      <th>max</th>\n",
       "      <td>NaN</td>\n",
       "      <td>NaN</td>\n",
       "      <td>3.001200e+04</td>\n",
       "      <td>NaN</td>\n",
       "      <td>NaN</td>\n",
       "    </tr>\n",
       "  </tbody>\n",
       "</table>\n",
       "</div>"
      ],
      "text/plain": [
       "                  timestamp sensor_tag         value sensor_type  \\\n",
       "count               1318459    1318459  1.318459e+06     1318459   \n",
       "unique               300063         51           NaN          10   \n",
       "top     2022-01-24 17:48:02  SENSOR_03           NaN        FLOW   \n",
       "freq                     44      86327           NaN      616221   \n",
       "first   2022-01-24 00:00:04        NaN           NaN         NaN   \n",
       "last    2022-01-31 23:59:57        NaN           NaN         NaN   \n",
       "mean                    NaN        NaN  1.392770e+03         NaN   \n",
       "std                     NaN        NaN  4.411070e+03         NaN   \n",
       "min                     NaN        NaN -4.476077e+02         NaN   \n",
       "25%                     NaN        NaN  3.791175e+01         NaN   \n",
       "50%                     NaN        NaN  7.880781e+01         NaN   \n",
       "75%                     NaN        NaN  2.409399e+02         NaN   \n",
       "max                     NaN        NaN  3.001200e+04         NaN   \n",
       "\n",
       "       equipment_type  \n",
       "count         1318459  \n",
       "unique              4  \n",
       "top              PUMP  \n",
       "freq           523361  \n",
       "first             NaN  \n",
       "last              NaN  \n",
       "mean              NaN  \n",
       "std               NaN  \n",
       "min               NaN  \n",
       "25%               NaN  \n",
       "50%               NaN  \n",
       "75%               NaN  \n",
       "max               NaN  "
      ]
     },
     "execution_count": 19,
     "metadata": {},
     "output_type": "execute_result"
    }
   ],
   "source": [
    "df_anon_high_res.describe(include=\"all\")"
   ]
  },
  {
   "cell_type": "code",
   "execution_count": 20,
   "id": "f0c6b611-4dc1-44d3-bb90-b3e0548c6075",
   "metadata": {},
   "outputs": [
    {
     "name": "stderr",
     "output_type": "stream",
     "text": [
      "/tmp/ipykernel_32282/4075979378.py:1: FutureWarning: Treating datetime data as categorical rather than numeric in `.describe` is deprecated and will be removed in a future version of pandas. Specify `datetime_is_numeric=True` to silence this warning and adopt the future behavior now.\n",
      "  df_anon_high_res_interpolated.describe(include=\"all\")\n"
     ]
    },
    {
     "data": {
      "text/html": [
       "<div>\n",
       "<style scoped>\n",
       "    .dataframe tbody tr th:only-of-type {\n",
       "        vertical-align: middle;\n",
       "    }\n",
       "\n",
       "    .dataframe tbody tr th {\n",
       "        vertical-align: top;\n",
       "    }\n",
       "\n",
       "    .dataframe thead th {\n",
       "        text-align: right;\n",
       "    }\n",
       "</style>\n",
       "<table border=\"1\" class=\"dataframe\">\n",
       "  <thead>\n",
       "    <tr style=\"text-align: right;\">\n",
       "      <th></th>\n",
       "      <th>timestamp</th>\n",
       "      <th>sensor_tag</th>\n",
       "      <th>value</th>\n",
       "      <th>sensor_type</th>\n",
       "      <th>equipment_type</th>\n",
       "    </tr>\n",
       "  </thead>\n",
       "  <tbody>\n",
       "    <tr>\n",
       "      <th>count</th>\n",
       "      <td>35239419</td>\n",
       "      <td>35239419</td>\n",
       "      <td>3.523942e+07</td>\n",
       "      <td>35239419</td>\n",
       "      <td>35239419</td>\n",
       "    </tr>\n",
       "    <tr>\n",
       "      <th>unique</th>\n",
       "      <td>690969</td>\n",
       "      <td>51</td>\n",
       "      <td>NaN</td>\n",
       "      <td>10</td>\n",
       "      <td>4</td>\n",
       "    </tr>\n",
       "    <tr>\n",
       "      <th>top</th>\n",
       "      <td>2022-01-24 00:01:57</td>\n",
       "      <td>SENSOR_01</td>\n",
       "      <td>NaN</td>\n",
       "      <td>FLOW</td>\n",
       "      <td>PUMP</td>\n",
       "    </tr>\n",
       "    <tr>\n",
       "      <th>freq</th>\n",
       "      <td>51</td>\n",
       "      <td>690969</td>\n",
       "      <td>NaN</td>\n",
       "      <td>18656163</td>\n",
       "      <td>15892287</td>\n",
       "    </tr>\n",
       "    <tr>\n",
       "      <th>first</th>\n",
       "      <td>2022-01-24 00:01:57</td>\n",
       "      <td>NaN</td>\n",
       "      <td>NaN</td>\n",
       "      <td>NaN</td>\n",
       "      <td>NaN</td>\n",
       "    </tr>\n",
       "    <tr>\n",
       "      <th>last</th>\n",
       "      <td>2022-01-31 23:58:05</td>\n",
       "      <td>NaN</td>\n",
       "      <td>NaN</td>\n",
       "      <td>NaN</td>\n",
       "      <td>NaN</td>\n",
       "    </tr>\n",
       "    <tr>\n",
       "      <th>mean</th>\n",
       "      <td>NaN</td>\n",
       "      <td>NaN</td>\n",
       "      <td>5.361748e+02</td>\n",
       "      <td>NaN</td>\n",
       "      <td>NaN</td>\n",
       "    </tr>\n",
       "    <tr>\n",
       "      <th>std</th>\n",
       "      <td>NaN</td>\n",
       "      <td>NaN</td>\n",
       "      <td>2.709614e+03</td>\n",
       "      <td>NaN</td>\n",
       "      <td>NaN</td>\n",
       "    </tr>\n",
       "    <tr>\n",
       "      <th>min</th>\n",
       "      <td>NaN</td>\n",
       "      <td>NaN</td>\n",
       "      <td>-4.476077e+02</td>\n",
       "      <td>NaN</td>\n",
       "      <td>NaN</td>\n",
       "    </tr>\n",
       "    <tr>\n",
       "      <th>25%</th>\n",
       "      <td>NaN</td>\n",
       "      <td>NaN</td>\n",
       "      <td>1.000000e+00</td>\n",
       "      <td>NaN</td>\n",
       "      <td>NaN</td>\n",
       "    </tr>\n",
       "    <tr>\n",
       "      <th>50%</th>\n",
       "      <td>NaN</td>\n",
       "      <td>NaN</td>\n",
       "      <td>4.031346e+01</td>\n",
       "      <td>NaN</td>\n",
       "      <td>NaN</td>\n",
       "    </tr>\n",
       "    <tr>\n",
       "      <th>75%</th>\n",
       "      <td>NaN</td>\n",
       "      <td>NaN</td>\n",
       "      <td>1.447033e+02</td>\n",
       "      <td>NaN</td>\n",
       "      <td>NaN</td>\n",
       "    </tr>\n",
       "    <tr>\n",
       "      <th>max</th>\n",
       "      <td>NaN</td>\n",
       "      <td>NaN</td>\n",
       "      <td>3.001200e+04</td>\n",
       "      <td>NaN</td>\n",
       "      <td>NaN</td>\n",
       "    </tr>\n",
       "  </tbody>\n",
       "</table>\n",
       "</div>"
      ],
      "text/plain": [
       "                  timestamp sensor_tag         value sensor_type  \\\n",
       "count              35239419   35239419  3.523942e+07    35239419   \n",
       "unique               690969         51           NaN          10   \n",
       "top     2022-01-24 00:01:57  SENSOR_01           NaN        FLOW   \n",
       "freq                     51     690969           NaN    18656163   \n",
       "first   2022-01-24 00:01:57        NaN           NaN         NaN   \n",
       "last    2022-01-31 23:58:05        NaN           NaN         NaN   \n",
       "mean                    NaN        NaN  5.361748e+02         NaN   \n",
       "std                     NaN        NaN  2.709614e+03         NaN   \n",
       "min                     NaN        NaN -4.476077e+02         NaN   \n",
       "25%                     NaN        NaN  1.000000e+00         NaN   \n",
       "50%                     NaN        NaN  4.031346e+01         NaN   \n",
       "75%                     NaN        NaN  1.447033e+02         NaN   \n",
       "max                     NaN        NaN  3.001200e+04         NaN   \n",
       "\n",
       "       equipment_type  \n",
       "count        35239419  \n",
       "unique              4  \n",
       "top              PUMP  \n",
       "freq         15892287  \n",
       "first             NaN  \n",
       "last              NaN  \n",
       "mean              NaN  \n",
       "std               NaN  \n",
       "min               NaN  \n",
       "25%               NaN  \n",
       "50%               NaN  \n",
       "75%               NaN  \n",
       "max               NaN  "
      ]
     },
     "execution_count": 20,
     "metadata": {},
     "output_type": "execute_result"
    }
   ],
   "source": [
    "df_anon_high_res_interpolated.describe(include=\"all\")"
   ]
  },
  {
   "cell_type": "markdown",
   "id": "fbd6e189-f26e-4232-ac5a-9951026db086",
   "metadata": {},
   "source": [
    "### 5.3.4 Inspect missing data"
   ]
  },
  {
   "cell_type": "code",
   "execution_count": 21,
   "id": "4b2af423-0192-44d8-8678-8f6a69aaf287",
   "metadata": {},
   "outputs": [
    {
     "data": {
      "text/html": [
       "<div>\n",
       "<style scoped>\n",
       "    .dataframe tbody tr th:only-of-type {\n",
       "        vertical-align: middle;\n",
       "    }\n",
       "\n",
       "    .dataframe tbody tr th {\n",
       "        vertical-align: top;\n",
       "    }\n",
       "\n",
       "    .dataframe thead th {\n",
       "        text-align: right;\n",
       "    }\n",
       "</style>\n",
       "<table border=\"1\" class=\"dataframe\">\n",
       "  <thead>\n",
       "    <tr style=\"text-align: right;\">\n",
       "      <th></th>\n",
       "      <th>PERCENT_MISSING</th>\n",
       "    </tr>\n",
       "  </thead>\n",
       "  <tbody>\n",
       "    <tr>\n",
       "      <th>timestamp</th>\n",
       "      <td>0.0</td>\n",
       "    </tr>\n",
       "    <tr>\n",
       "      <th>sensor_tag</th>\n",
       "      <td>0.0</td>\n",
       "    </tr>\n",
       "    <tr>\n",
       "      <th>value</th>\n",
       "      <td>0.0</td>\n",
       "    </tr>\n",
       "    <tr>\n",
       "      <th>sensor_type</th>\n",
       "      <td>0.0</td>\n",
       "    </tr>\n",
       "    <tr>\n",
       "      <th>equipment_type</th>\n",
       "      <td>0.0</td>\n",
       "    </tr>\n",
       "  </tbody>\n",
       "</table>\n",
       "</div>"
      ],
      "text/plain": [
       "                PERCENT_MISSING\n",
       "timestamp                   0.0\n",
       "sensor_tag                  0.0\n",
       "value                       0.0\n",
       "sensor_type                 0.0\n",
       "equipment_type              0.0"
      ]
     },
     "execution_count": 21,
     "metadata": {},
     "output_type": "execute_result"
    }
   ],
   "source": [
    "df_anon_high_res_percent_missing = (df_anon_high_res.isnull().sum() * 100) / len(df_anon_high_res)\n",
    "\n",
    "df_anon_high_res_missing_data = pd.DataFrame({\"PERCENT_MISSING\": df_anon_high_res_percent_missing}, index=df_anon_high_res.columns)\n",
    "df_anon_high_res_missing_data"
   ]
  },
  {
   "cell_type": "code",
   "execution_count": 22,
   "id": "a000c80a-e22f-4183-812f-01665b65bdf6",
   "metadata": {},
   "outputs": [
    {
     "data": {
      "text/html": [
       "<div>\n",
       "<style scoped>\n",
       "    .dataframe tbody tr th:only-of-type {\n",
       "        vertical-align: middle;\n",
       "    }\n",
       "\n",
       "    .dataframe tbody tr th {\n",
       "        vertical-align: top;\n",
       "    }\n",
       "\n",
       "    .dataframe thead th {\n",
       "        text-align: right;\n",
       "    }\n",
       "</style>\n",
       "<table border=\"1\" class=\"dataframe\">\n",
       "  <thead>\n",
       "    <tr style=\"text-align: right;\">\n",
       "      <th></th>\n",
       "      <th>PERCENT_MISSING</th>\n",
       "    </tr>\n",
       "  </thead>\n",
       "  <tbody>\n",
       "    <tr>\n",
       "      <th>timestamp</th>\n",
       "      <td>0.0</td>\n",
       "    </tr>\n",
       "    <tr>\n",
       "      <th>sensor_tag</th>\n",
       "      <td>0.0</td>\n",
       "    </tr>\n",
       "    <tr>\n",
       "      <th>value</th>\n",
       "      <td>0.0</td>\n",
       "    </tr>\n",
       "    <tr>\n",
       "      <th>sensor_type</th>\n",
       "      <td>0.0</td>\n",
       "    </tr>\n",
       "    <tr>\n",
       "      <th>equipment_type</th>\n",
       "      <td>0.0</td>\n",
       "    </tr>\n",
       "  </tbody>\n",
       "</table>\n",
       "</div>"
      ],
      "text/plain": [
       "                PERCENT_MISSING\n",
       "timestamp                   0.0\n",
       "sensor_tag                  0.0\n",
       "value                       0.0\n",
       "sensor_type                 0.0\n",
       "equipment_type              0.0"
      ]
     },
     "execution_count": 22,
     "metadata": {},
     "output_type": "execute_result"
    }
   ],
   "source": [
    "df_anon_high_res_interpolated_percent_missing = (df_anon_high_res_interpolated.isnull().sum() * 100) / len(df_anon_high_res_interpolated)\n",
    "\n",
    "df_anon_high_res_interpolated_missing_data = pd.DataFrame(\n",
    "    {\"PERCENT_MISSING\": df_anon_high_res_interpolated_percent_missing},\n",
    "    index=df_anon_high_res_interpolated.columns,\n",
    ")\n",
    "\n",
    "df_anon_high_res_interpolated_missing_data"
   ]
  },
  {
   "cell_type": "markdown",
   "id": "4fcf9ece-6b8f-4988-a60d-8d5d6437bb1a",
   "metadata": {},
   "source": [
    "### 5.3.5 Inspect data overview"
   ]
  },
  {
   "cell_type": "code",
   "execution_count": 23,
   "id": "ae1ef20e-d162-4f2a-887b-5c2e0ea82242",
   "metadata": {
    "tags": []
   },
   "outputs": [],
   "source": [
    "def display_overview(df, subset=None, start=None, end=None):\n",
    "    tags = [tag for tag in df[\"sensor_tag\"].unique() if subset is None or tag in subset]\n",
    "    start = start or df[\"timestamp\"].min()\n",
    "    end = end or df[\"timestamp\"].max()\n",
    "    overview = pd.DataFrame()\n",
    "\n",
    "    for tag in tags:\n",
    "        subset = df[(df[\"sensor_tag\"] == tag) & (df[\"timestamp\"] >= start) & (df[\"timestamp\"] <= end)].copy()\n",
    "\n",
    "        overview = pd.concat([overview, pd.DataFrame([{\n",
    "            \"SENSOR_TAG\": tag,\n",
    "            \"SENSOR_TYPE\": subset[\"sensor_type\"].iloc[0] if len(subset[\"sensor_type\"]) > 0 else np.nan,\n",
    "            \"EQUIPMENT_TYPE\": subset[\"equipment_type\"].iloc[0] if len(subset[\"equipment_type\"]) > 0 else np.nan,\n",
    "            \"VALUE_MEAN\": subset[\"value\"].mean(),\n",
    "            \"VALUE_STD\": subset[\"value\"].std(),\n",
    "            \"VALUE_MIN\": subset[\"value\"].min(),\n",
    "            \"VALUE_25\": subset[\"value\"].quantile(0.25),\n",
    "            \"VALUE_50\": subset[\"value\"].quantile(0.50),\n",
    "            \"VALUE_75\": subset[\"value\"].quantile(0.75),\n",
    "            \"VALUE_MAX\": subset[\"value\"].max(),\n",
    "            \"TIMESTAMP_INTERVAL\": (subset[\"timestamp\"].max() - subset[\"timestamp\"].min()) / len(subset),\n",
    "        }])], ignore_index=True)\n",
    "\n",
    "    with pd.option_context(\"display.max_rows\", 70, \"display.max_columns\", 20):\n",
    "        display(overview)\n",
    "\n",
    "\n",
    "def plot_overview(df, subset=None, start=None, end=None, kind=\"line\", normalize=False):\n",
    "    tags = [tag for tag in df[\"sensor_tag\"].unique() if subset is None or tag in subset]\n",
    "    colors = plt.cm.get_cmap(\"tab20\").colors\n",
    "    start = start or df[\"timestamp\"].min()\n",
    "    end = end or df[\"timestamp\"].max()\n",
    "\n",
    "    fig, axes = plt.subplots(\n",
    "        len(tags),\n",
    "        1,\n",
    "        figsize=(24, len(tags)),\n",
    "        sharex=True,\n",
    "        sharey=False,\n",
    "    )\n",
    "\n",
    "    for idx, tag in enumerate(tags):\n",
    "        subset = df[(df[\"sensor_tag\"] == tag) & (df[\"timestamp\"] >= start) & (df[\"timestamp\"] <= end)].copy()\n",
    "        subset[\"sensor_tag\"] = subset.apply(\n",
    "            lambda row: f\"{row['sensor_tag'].split('_')[1]}_{row['sensor_type']}_{row['equipment_type']}\",\n",
    "            axis=1,\n",
    "        )\n",
    "\n",
    "        if normalize:\n",
    "            scaler = MinMaxScaler()\n",
    "            values = scaler.fit_transform(subset[\"value\"].to_numpy().reshape(-1, 1))\n",
    "        else:\n",
    "            values = subset[\"value\"]\n",
    "\n",
    "        fig.add_subplot(axes[idx])\n",
    "\n",
    "        if kind == \"line\":\n",
    "            plt.plot(\n",
    "                subset[\"timestamp\"],\n",
    "                values,\n",
    "                color=colors[idx % len(colors)],\n",
    "                label=subset[\"sensor_tag\"].iloc[0],\n",
    "                marker=\".\",\n",
    "            )\n",
    "            plt.legend(loc=\"upper right\")\n",
    "        elif kind == \"scatter\":\n",
    "            plt.scatter(\n",
    "                subset[\"timestamp\"],\n",
    "                values,\n",
    "                color=colors[idx % len(colors)],\n",
    "                label=subset[\"sensor_tag\"].iloc[0],\n",
    "                marker=\".\",\n",
    "            )\n",
    "            plt.legend(loc=\"upper right\")\n",
    "        else:\n",
    "            raise ValueError(\"'kind' must be either 'line' or 'scatter'\")\n",
    "\n",
    "    plt.tight_layout()\n",
    "    plt.subplots_adjust(wspace=0, hspace=0.07)\n",
    "    plt.margins(x=0, y=0)\n",
    "    plt.show()\n",
    "\n",
    "\n",
    "def plot_correlation(df, subset=None, start=None, end=None, freq=None):\n",
    "    tags = [tag for tag in df[\"sensor_tag\"].unique() if subset is None or tag in subset]\n",
    "    start = start or df[\"timestamp\"].min()\n",
    "    end = end or df[\"timestamp\"].max()\n",
    "\n",
    "    subset = df[df[\"sensor_tag\"].isin(tags) & (df[\"timestamp\"] >= start) & (df[\"timestamp\"] <= end)].copy()\n",
    "    subset[\"sensor_tag\"] = subset.apply(\n",
    "        lambda row: f\"{row['sensor_tag'].split('_')[1]}_{row['sensor_type']}_{row['equipment_type']}\",\n",
    "        axis=1,\n",
    "    )\n",
    "\n",
    "    pivot = subset.pivot_table(index=\"timestamp\", columns=\"sensor_tag\", values=\"value\")\n",
    "    pivot = pivot.reset_index()\n",
    "    pivot = pivot.groupby(\"timestamp\" if not freq else pd.Grouper(key=\"timestamp\", freq=freq)).mean()\n",
    "\n",
    "    _, ax = plt.subplots(figsize=(24, 24))\n",
    "\n",
    "    sns.heatmap(\n",
    "        pivot.corr(),\n",
    "        vmax=1.0,\n",
    "        cmap=sns.diverging_palette(220, 10, as_cmap=True),\n",
    "        cbar=False,\n",
    "        square=True,\n",
    "        annot=True,\n",
    "        ax=ax,\n",
    "        linewidths=0.1,\n",
    "        linecolor=\"white\",\n",
    "    )\n",
    "\n",
    "    plt.tight_layout()\n",
    "    plt.xlabel(None)\n",
    "    plt.ylabel(None)\n",
    "    plt.show()"
   ]
  },
  {
   "cell_type": "code",
   "execution_count": null,
   "id": "ad6a8682-b489-465f-9c65-ba37ba4ffb06",
   "metadata": {},
   "outputs": [],
   "source": [
    "%%time\n",
    "display_overview(\n",
    "    df_anon_high_res_interpolated,\n",
    "    subset=None,\n",
    "    start=\"2022-01-24 00:00:00\",\n",
    "    end=\"2022-01-24 23:59:59\",\n",
    ")"
   ]
  },
  {
   "cell_type": "code",
   "execution_count": null,
   "id": "e599b16c-4aba-4bc8-b8a7-ee8ff5a8ec96",
   "metadata": {},
   "outputs": [],
   "source": [
    "%%time\n",
    "plot_overview(\n",
    "    df_anon_high_res_interpolated,\n",
    "    subset=None,\n",
    "    start=\"2022-01-24 10:30:00\",\n",
    "    end=\"2022-01-24 11:30:00\",\n",
    "    kind=\"scatter\",\n",
    "    normalize=False,\n",
    ")"
   ]
  },
  {
   "cell_type": "code",
   "execution_count": null,
   "id": "06cf5740-fb47-4947-9ea1-1951195a5cb3",
   "metadata": {},
   "outputs": [],
   "source": [
    "%%time\n",
    "plot_correlation(\n",
    "    df_anon_high_res_interpolated,\n",
    "    subset=None,\n",
    "    start=\"2022-01-24 00:00:00\",\n",
    "    end=\"2022-01-24 23:59:59\",\n",
    "    freq=None,\n",
    ")"
   ]
  },
  {
   "cell_type": "markdown",
   "id": "06b20a02-b8f7-435b-8f65-8a76f9b48d54",
   "metadata": {},
   "source": [
    "## 5.4 Modeling"
   ]
  },
  {
   "cell_type": "markdown",
   "id": "3c0df536-6e65-48dd-860a-abbf801f63d6",
   "metadata": {},
   "source": [
    "### 5.4.1 Pivot data"
   ]
  },
  {
   "cell_type": "code",
   "execution_count": 24,
   "id": "a25c2530-d7f2-47ad-836d-bdbe499add30",
   "metadata": {},
   "outputs": [
    {
     "name": "stdout",
     "output_type": "stream",
     "text": [
      "CPU times: user 15.4 s, sys: 2.83 s, total: 18.2 s\n",
      "Wall time: 18.2 s\n"
     ]
    }
   ],
   "source": [
    "%%time\n",
    "df_anon_high_res_pivot = df_anon_high_res_interpolated.pivot_table(index=\"timestamp\", columns=\"sensor_tag\", values=\"value\")\n",
    "df_anon_high_res_pivot = df_anon_high_res_pivot.groupby(pd.Grouper(freq=\"10min\")).mean()"
   ]
  },
  {
   "cell_type": "markdown",
   "id": "7e6e0464-b1a6-4dd8-b8ba-ed2d6507651b",
   "metadata": {},
   "source": [
    "### 5.4.2 Normalize data"
   ]
  },
  {
   "cell_type": "code",
   "execution_count": 25,
   "id": "dd06db75-87a9-4998-ae61-646518bb989f",
   "metadata": {},
   "outputs": [
    {
     "name": "stdout",
     "output_type": "stream",
     "text": [
      "CPU times: user 3.97 ms, sys: 16 µs, total: 3.98 ms\n",
      "Wall time: 3 ms\n"
     ]
    }
   ],
   "source": [
    "%%time\n",
    "scaler = MinMaxScaler()\n",
    "df_anon_high_res_normal = pd.DataFrame(scaler.fit_transform(df_anon_high_res_pivot), columns=df_anon_high_res_pivot.columns, index=df_anon_high_res_pivot.index)"
   ]
  },
  {
   "cell_type": "markdown",
   "id": "0df8033d-1e78-4097-a079-7f42fe157c33",
   "metadata": {},
   "source": [
    "### 5.4.3 Segment data"
   ]
  },
  {
   "cell_type": "code",
   "execution_count": null,
   "id": "360abfac-5625-4fb9-9cd3-69c50b911472",
   "metadata": {},
   "outputs": [],
   "source": [
    "def segment_data(df):\n",
    "    pass"
   ]
  },
  {
   "cell_type": "code",
   "execution_count": null,
   "id": "450761df-7b0b-4006-832f-ae87ac0cadcd",
   "metadata": {},
   "outputs": [],
   "source": []
  },
  {
   "cell_type": "markdown",
   "id": "39d8fc43-b8b3-448d-adce-27518b8440e7",
   "metadata": {},
   "source": [
    "### 5.4.4 Label data"
   ]
  },
  {
   "cell_type": "code",
   "execution_count": null,
   "id": "10ef846a-af44-4b3c-adb3-30da34a3d391",
   "metadata": {},
   "outputs": [],
   "source": []
  },
  {
   "cell_type": "code",
   "execution_count": null,
   "id": "1cf41434-cb3e-452b-8ee4-1aa5da63fefd",
   "metadata": {},
   "outputs": [],
   "source": []
  },
  {
   "cell_type": "markdown",
   "id": "0bcfe102-b907-4d6c-ba73-1c5a2112aa70",
   "metadata": {},
   "source": [
    "### 5.4.5 Classify data"
   ]
  },
  {
   "cell_type": "code",
   "execution_count": null,
   "id": "c5be9b8f-f152-4a13-884c-78735c1201b0",
   "metadata": {},
   "outputs": [],
   "source": []
  },
  {
   "cell_type": "code",
   "execution_count": null,
   "id": "25a837cc-e349-402c-b142-4160f3b528a2",
   "metadata": {},
   "outputs": [],
   "source": []
  },
  {
   "cell_type": "markdown",
   "id": "63d52c0e-ed39-4533-a386-3ff56ae5d54d",
   "metadata": {
    "tags": []
   },
   "source": [
    "# 99. Scratch"
   ]
  },
  {
   "cell_type": "code",
   "execution_count": null,
   "id": "3b9e478d-562e-4fd3-8a52-0dc637fd56f4",
   "metadata": {},
   "outputs": [],
   "source": []
  }
 ],
 "metadata": {
  "kernelspec": {
   "display_name": "Python 3 (ipykernel)",
   "language": "python",
   "name": "python3"
  },
  "language_info": {
   "codemirror_mode": {
    "name": "ipython",
    "version": 3
   },
   "file_extension": ".py",
   "mimetype": "text/x-python",
   "name": "python",
   "nbconvert_exporter": "python",
   "pygments_lexer": "ipython3",
   "version": "3.8.10"
  },
  "vscode": {
   "interpreter": {
    "hash": "21b6f66a006ed79c8d9d5a851eada0c384f76eeeb5df8136a219f018c0a18e51"
   }
  }
 },
 "nbformat": 4,
 "nbformat_minor": 5
}
